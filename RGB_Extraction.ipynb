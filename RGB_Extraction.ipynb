{
  "nbformat": 4,
  "nbformat_minor": 0,
  "metadata": {
    "colab": {
      "name": "로고 RGB추출.ipynb",
      "provenance": [],
      "collapsed_sections": [],
      "include_colab_link": true
    },
    "kernelspec": {
      "name": "python3",
      "display_name": "Python 3"
    }
  },
  "cells": [
    {
      "cell_type": "markdown",
      "metadata": {
        "id": "view-in-github",
        "colab_type": "text"
      },
      "source": [
        "<a href=\"https://colab.research.google.com/github/GGoYoungHee/RGBrand/blob/main/RGB_Extraction.ipynb\" target=\"_parent\"><img src=\"https://colab.research.google.com/assets/colab-badge.svg\" alt=\"Open In Colab\"/></a>"
      ]
    },
    {
      "cell_type": "markdown",
      "metadata": {
        "id": "AnmDfZ-TIKvJ"
      },
      "source": [
        "파일 불러오기"
      ]
    },
    {
      "cell_type": "code",
      "metadata": {
        "id": "AJVJIGjcy_iZ",
        "outputId": "f11a45b5-4bf0-4f64-a763-962e49adc311",
        "colab": {
          "base_uri": "https://localhost:8080/",
          "height": 131
        }
      },
      "source": [
        "from google.colab import drive\n",
        "drive.mount('/content/drive')"
      ],
      "execution_count": null,
      "outputs": [
        {
          "output_type": "stream",
          "text": [
            "Go to this URL in a browser: https://accounts.google.com/o/oauth2/auth?client_id=947318989803-6bn6qk8qdgf4n4g3pfee6491hc0brc4i.apps.googleusercontent.com&redirect_uri=urn%3aietf%3awg%3aoauth%3a2.0%3aoob&response_type=code&scope=email%20https%3a%2f%2fwww.googleapis.com%2fauth%2fdocs.test%20https%3a%2f%2fwww.googleapis.com%2fauth%2fdrive%20https%3a%2f%2fwww.googleapis.com%2fauth%2fdrive.photos.readonly%20https%3a%2f%2fwww.googleapis.com%2fauth%2fpeopleapi.readonly\n",
            "\n",
            "Enter your authorization code:\n",
            "··········\n",
            "Mounted at /content/drive\n"
          ],
          "name": "stdout"
        }
      ]
    },
    {
      "cell_type": "code",
      "metadata": {
        "id": "SZAGJJx5IUi6",
        "outputId": "c110e973-a605-4878-cbf7-6bfc535b8fa0",
        "colab": {
          "base_uri": "https://localhost:8080/",
          "height": 36
        }
      },
      "source": [
        "import os\n",
        "\n",
        "os.getcwd()"
      ],
      "execution_count": null,
      "outputs": [
        {
          "output_type": "execute_result",
          "data": {
            "text/plain": [
              "'/content'"
            ]
          },
          "metadata": {
            "tags": []
          },
          "execution_count": 2
        }
      ]
    },
    {
      "cell_type": "code",
      "metadata": {
        "id": "h_2xK2E_IAmg",
        "outputId": "c70ee647-a20d-4018-c801-146fc69bc047",
        "colab": {
          "base_uri": "https://localhost:8080/",
          "height": 517
        }
      },
      "source": [
        "import pandas as pd\n",
        "\n",
        "df2 = pd.read_csv('/content/drive/My Drive/')"
      ],
      "execution_count": null,
      "outputs": [
        {
          "output_type": "error",
          "ename": "ParserError",
          "evalue": "ignored",
          "traceback": [
            "\u001b[0;31m---------------------------------------------------------------------------\u001b[0m",
            "\u001b[0;31mParserError\u001b[0m                               Traceback (most recent call last)",
            "\u001b[0;32m<ipython-input-3-eaa1b154d2fa>\u001b[0m in \u001b[0;36m<module>\u001b[0;34m()\u001b[0m\n\u001b[1;32m      1\u001b[0m \u001b[0;32mimport\u001b[0m \u001b[0mpandas\u001b[0m \u001b[0;32mas\u001b[0m \u001b[0mpd\u001b[0m\u001b[0;34m\u001b[0m\u001b[0;34m\u001b[0m\u001b[0m\n\u001b[1;32m      2\u001b[0m \u001b[0;34m\u001b[0m\u001b[0m\n\u001b[0;32m----> 3\u001b[0;31m \u001b[0mdf2\u001b[0m \u001b[0;34m=\u001b[0m \u001b[0mpd\u001b[0m\u001b[0;34m.\u001b[0m\u001b[0mread_csv\u001b[0m\u001b[0;34m(\u001b[0m\u001b[0;34m'/content/drive/My Drive/'\u001b[0m\u001b[0;34m)\u001b[0m\u001b[0;34m\u001b[0m\u001b[0;34m\u001b[0m\u001b[0m\n\u001b[0m",
            "\u001b[0;32m/usr/local/lib/python3.6/dist-packages/pandas/io/parsers.py\u001b[0m in \u001b[0;36mparser_f\u001b[0;34m(filepath_or_buffer, sep, delimiter, header, names, index_col, usecols, squeeze, prefix, mangle_dupe_cols, dtype, engine, converters, true_values, false_values, skipinitialspace, skiprows, skipfooter, nrows, na_values, keep_default_na, na_filter, verbose, skip_blank_lines, parse_dates, infer_datetime_format, keep_date_col, date_parser, dayfirst, cache_dates, iterator, chunksize, compression, thousands, decimal, lineterminator, quotechar, quoting, doublequote, escapechar, comment, encoding, dialect, error_bad_lines, warn_bad_lines, delim_whitespace, low_memory, memory_map, float_precision)\u001b[0m\n\u001b[1;32m    674\u001b[0m         )\n\u001b[1;32m    675\u001b[0m \u001b[0;34m\u001b[0m\u001b[0m\n\u001b[0;32m--> 676\u001b[0;31m         \u001b[0;32mreturn\u001b[0m \u001b[0m_read\u001b[0m\u001b[0;34m(\u001b[0m\u001b[0mfilepath_or_buffer\u001b[0m\u001b[0;34m,\u001b[0m \u001b[0mkwds\u001b[0m\u001b[0;34m)\u001b[0m\u001b[0;34m\u001b[0m\u001b[0;34m\u001b[0m\u001b[0m\n\u001b[0m\u001b[1;32m    677\u001b[0m \u001b[0;34m\u001b[0m\u001b[0m\n\u001b[1;32m    678\u001b[0m     \u001b[0mparser_f\u001b[0m\u001b[0;34m.\u001b[0m\u001b[0m__name__\u001b[0m \u001b[0;34m=\u001b[0m \u001b[0mname\u001b[0m\u001b[0;34m\u001b[0m\u001b[0;34m\u001b[0m\u001b[0m\n",
            "\u001b[0;32m/usr/local/lib/python3.6/dist-packages/pandas/io/parsers.py\u001b[0m in \u001b[0;36m_read\u001b[0;34m(filepath_or_buffer, kwds)\u001b[0m\n\u001b[1;32m    446\u001b[0m \u001b[0;34m\u001b[0m\u001b[0m\n\u001b[1;32m    447\u001b[0m     \u001b[0;31m# Create the parser.\u001b[0m\u001b[0;34m\u001b[0m\u001b[0;34m\u001b[0m\u001b[0;34m\u001b[0m\u001b[0m\n\u001b[0;32m--> 448\u001b[0;31m     \u001b[0mparser\u001b[0m \u001b[0;34m=\u001b[0m \u001b[0mTextFileReader\u001b[0m\u001b[0;34m(\u001b[0m\u001b[0mfp_or_buf\u001b[0m\u001b[0;34m,\u001b[0m \u001b[0;34m**\u001b[0m\u001b[0mkwds\u001b[0m\u001b[0;34m)\u001b[0m\u001b[0;34m\u001b[0m\u001b[0;34m\u001b[0m\u001b[0m\n\u001b[0m\u001b[1;32m    449\u001b[0m \u001b[0;34m\u001b[0m\u001b[0m\n\u001b[1;32m    450\u001b[0m     \u001b[0;32mif\u001b[0m \u001b[0mchunksize\u001b[0m \u001b[0;32mor\u001b[0m \u001b[0miterator\u001b[0m\u001b[0;34m:\u001b[0m\u001b[0;34m\u001b[0m\u001b[0;34m\u001b[0m\u001b[0m\n",
            "\u001b[0;32m/usr/local/lib/python3.6/dist-packages/pandas/io/parsers.py\u001b[0m in \u001b[0;36m__init__\u001b[0;34m(self, f, engine, **kwds)\u001b[0m\n\u001b[1;32m    878\u001b[0m             \u001b[0mself\u001b[0m\u001b[0;34m.\u001b[0m\u001b[0moptions\u001b[0m\u001b[0;34m[\u001b[0m\u001b[0;34m\"has_index_names\"\u001b[0m\u001b[0;34m]\u001b[0m \u001b[0;34m=\u001b[0m \u001b[0mkwds\u001b[0m\u001b[0;34m[\u001b[0m\u001b[0;34m\"has_index_names\"\u001b[0m\u001b[0;34m]\u001b[0m\u001b[0;34m\u001b[0m\u001b[0;34m\u001b[0m\u001b[0m\n\u001b[1;32m    879\u001b[0m \u001b[0;34m\u001b[0m\u001b[0m\n\u001b[0;32m--> 880\u001b[0;31m         \u001b[0mself\u001b[0m\u001b[0;34m.\u001b[0m\u001b[0m_make_engine\u001b[0m\u001b[0;34m(\u001b[0m\u001b[0mself\u001b[0m\u001b[0;34m.\u001b[0m\u001b[0mengine\u001b[0m\u001b[0;34m)\u001b[0m\u001b[0;34m\u001b[0m\u001b[0;34m\u001b[0m\u001b[0m\n\u001b[0m\u001b[1;32m    881\u001b[0m \u001b[0;34m\u001b[0m\u001b[0m\n\u001b[1;32m    882\u001b[0m     \u001b[0;32mdef\u001b[0m \u001b[0mclose\u001b[0m\u001b[0;34m(\u001b[0m\u001b[0mself\u001b[0m\u001b[0;34m)\u001b[0m\u001b[0;34m:\u001b[0m\u001b[0;34m\u001b[0m\u001b[0;34m\u001b[0m\u001b[0m\n",
            "\u001b[0;32m/usr/local/lib/python3.6/dist-packages/pandas/io/parsers.py\u001b[0m in \u001b[0;36m_make_engine\u001b[0;34m(self, engine)\u001b[0m\n\u001b[1;32m   1112\u001b[0m     \u001b[0;32mdef\u001b[0m \u001b[0m_make_engine\u001b[0m\u001b[0;34m(\u001b[0m\u001b[0mself\u001b[0m\u001b[0;34m,\u001b[0m \u001b[0mengine\u001b[0m\u001b[0;34m=\u001b[0m\u001b[0;34m\"c\"\u001b[0m\u001b[0;34m)\u001b[0m\u001b[0;34m:\u001b[0m\u001b[0;34m\u001b[0m\u001b[0;34m\u001b[0m\u001b[0m\n\u001b[1;32m   1113\u001b[0m         \u001b[0;32mif\u001b[0m \u001b[0mengine\u001b[0m \u001b[0;34m==\u001b[0m \u001b[0;34m\"c\"\u001b[0m\u001b[0;34m:\u001b[0m\u001b[0;34m\u001b[0m\u001b[0;34m\u001b[0m\u001b[0m\n\u001b[0;32m-> 1114\u001b[0;31m             \u001b[0mself\u001b[0m\u001b[0;34m.\u001b[0m\u001b[0m_engine\u001b[0m \u001b[0;34m=\u001b[0m \u001b[0mCParserWrapper\u001b[0m\u001b[0;34m(\u001b[0m\u001b[0mself\u001b[0m\u001b[0;34m.\u001b[0m\u001b[0mf\u001b[0m\u001b[0;34m,\u001b[0m \u001b[0;34m**\u001b[0m\u001b[0mself\u001b[0m\u001b[0;34m.\u001b[0m\u001b[0moptions\u001b[0m\u001b[0;34m)\u001b[0m\u001b[0;34m\u001b[0m\u001b[0;34m\u001b[0m\u001b[0m\n\u001b[0m\u001b[1;32m   1115\u001b[0m         \u001b[0;32melse\u001b[0m\u001b[0;34m:\u001b[0m\u001b[0;34m\u001b[0m\u001b[0;34m\u001b[0m\u001b[0m\n\u001b[1;32m   1116\u001b[0m             \u001b[0;32mif\u001b[0m \u001b[0mengine\u001b[0m \u001b[0;34m==\u001b[0m \u001b[0;34m\"python\"\u001b[0m\u001b[0;34m:\u001b[0m\u001b[0;34m\u001b[0m\u001b[0;34m\u001b[0m\u001b[0m\n",
            "\u001b[0;32m/usr/local/lib/python3.6/dist-packages/pandas/io/parsers.py\u001b[0m in \u001b[0;36m__init__\u001b[0;34m(self, src, **kwds)\u001b[0m\n\u001b[1;32m   1889\u001b[0m         \u001b[0mkwds\u001b[0m\u001b[0;34m[\u001b[0m\u001b[0;34m\"usecols\"\u001b[0m\u001b[0;34m]\u001b[0m \u001b[0;34m=\u001b[0m \u001b[0mself\u001b[0m\u001b[0;34m.\u001b[0m\u001b[0musecols\u001b[0m\u001b[0;34m\u001b[0m\u001b[0;34m\u001b[0m\u001b[0m\n\u001b[1;32m   1890\u001b[0m \u001b[0;34m\u001b[0m\u001b[0m\n\u001b[0;32m-> 1891\u001b[0;31m         \u001b[0mself\u001b[0m\u001b[0;34m.\u001b[0m\u001b[0m_reader\u001b[0m \u001b[0;34m=\u001b[0m \u001b[0mparsers\u001b[0m\u001b[0;34m.\u001b[0m\u001b[0mTextReader\u001b[0m\u001b[0;34m(\u001b[0m\u001b[0msrc\u001b[0m\u001b[0;34m,\u001b[0m \u001b[0;34m**\u001b[0m\u001b[0mkwds\u001b[0m\u001b[0;34m)\u001b[0m\u001b[0;34m\u001b[0m\u001b[0;34m\u001b[0m\u001b[0m\n\u001b[0m\u001b[1;32m   1892\u001b[0m         \u001b[0mself\u001b[0m\u001b[0;34m.\u001b[0m\u001b[0munnamed_cols\u001b[0m \u001b[0;34m=\u001b[0m \u001b[0mself\u001b[0m\u001b[0;34m.\u001b[0m\u001b[0m_reader\u001b[0m\u001b[0;34m.\u001b[0m\u001b[0munnamed_cols\u001b[0m\u001b[0;34m\u001b[0m\u001b[0;34m\u001b[0m\u001b[0m\n\u001b[1;32m   1893\u001b[0m \u001b[0;34m\u001b[0m\u001b[0m\n",
            "\u001b[0;32mpandas/_libs/parsers.pyx\u001b[0m in \u001b[0;36mpandas._libs.parsers.TextReader.__cinit__\u001b[0;34m()\u001b[0m\n",
            "\u001b[0;32mpandas/_libs/parsers.pyx\u001b[0m in \u001b[0;36mpandas._libs.parsers.TextReader._get_header\u001b[0;34m()\u001b[0m\n",
            "\u001b[0;32mpandas/_libs/parsers.pyx\u001b[0m in \u001b[0;36mpandas._libs.parsers.TextReader._tokenize_rows\u001b[0;34m()\u001b[0m\n",
            "\u001b[0;32mpandas/_libs/parsers.pyx\u001b[0m in \u001b[0;36mpandas._libs.parsers.raise_parser_error\u001b[0;34m()\u001b[0m\n",
            "\u001b[0;31mParserError\u001b[0m: Error tokenizing data. C error: Calling read(nbytes) on source failed. Try engine='python'."
          ]
        }
      ]
    },
    {
      "cell_type": "code",
      "metadata": {
        "id": "FPZjQSoAIaxP",
        "outputId": "907db1cc-21b5-4b11-d796-b12c937e3ee6",
        "colab": {
          "base_uri": "https://localhost:8080/",
          "height": 176
        }
      },
      "source": [
        "df2.columns"
      ],
      "execution_count": null,
      "outputs": [
        {
          "output_type": "error",
          "ename": "NameError",
          "evalue": "ignored",
          "traceback": [
            "\u001b[0;31m---------------------------------------------------------------------------\u001b[0m",
            "\u001b[0;31mNameError\u001b[0m                                 Traceback (most recent call last)",
            "\u001b[0;32m<ipython-input-4-2f66b0aae6b6>\u001b[0m in \u001b[0;36m<module>\u001b[0;34m()\u001b[0m\n\u001b[0;32m----> 1\u001b[0;31m \u001b[0mdf2\u001b[0m\u001b[0;34m.\u001b[0m\u001b[0mcolumns\u001b[0m\u001b[0;34m\u001b[0m\u001b[0;34m\u001b[0m\u001b[0m\n\u001b[0m",
            "\u001b[0;31mNameError\u001b[0m: name 'df2' is not defined"
          ]
        }
      ]
    },
    {
      "cell_type": "code",
      "metadata": {
        "id": "cG-Z8w0UIBb_"
      },
      "source": [
        "df2['R']=np.nan\n",
        "df2['G']=np.nan\n",
        "df2['B']=np.nan"
      ],
      "execution_count": null,
      "outputs": []
    },
    {
      "cell_type": "code",
      "metadata": {
        "id": "BvSJLjNsH3RK",
        "outputId": "d7f83e23-34bd-4216-9a4b-af12e71c6a26",
        "colab": {
          "base_uri": "https://localhost:8080/",
          "height": 322
        }
      },
      "source": [
        "df2.head()"
      ],
      "execution_count": null,
      "outputs": [
        {
          "output_type": "execute_result",
          "data": {
            "text/html": [
              "<div>\n",
              "<style scoped>\n",
              "    .dataframe tbody tr th:only-of-type {\n",
              "        vertical-align: middle;\n",
              "    }\n",
              "\n",
              "    .dataframe tbody tr th {\n",
              "        vertical-align: top;\n",
              "    }\n",
              "\n",
              "    .dataframe thead th {\n",
              "        text-align: right;\n",
              "    }\n",
              "</style>\n",
              "<table border=\"1\" class=\"dataframe\">\n",
              "  <thead>\n",
              "    <tr style=\"text-align: right;\">\n",
              "      <th></th>\n",
              "      <th>names</th>\n",
              "      <th>sector</th>\n",
              "      <th>country</th>\n",
              "      <th>region</th>\n",
              "      <th>Img</th>\n",
              "      <th>year</th>\n",
              "      <th>rank</th>\n",
              "      <th>color count</th>\n",
              "      <th>meterial</th>\n",
              "      <th>shape</th>\n",
              "      <th>R</th>\n",
              "      <th>G</th>\n",
              "      <th>B</th>\n",
              "    </tr>\n",
              "  </thead>\n",
              "  <tbody>\n",
              "    <tr>\n",
              "      <th>0</th>\n",
              "      <td>Samsung</td>\n",
              "      <td>Technology</td>\n",
              "      <td>South Korea</td>\n",
              "      <td>Asia Pacific</td>\n",
              "      <td>https://www.interbrand.com/assets/00000001562.png</td>\n",
              "      <td>2013</td>\n",
              "      <td>1</td>\n",
              "      <td>1</td>\n",
              "      <td>plain</td>\n",
              "      <td>text</td>\n",
              "      <td>NaN</td>\n",
              "      <td>NaN</td>\n",
              "      <td>NaN</td>\n",
              "    </tr>\n",
              "    <tr>\n",
              "      <th>1</th>\n",
              "      <td>Hyundai</td>\n",
              "      <td>Automotive</td>\n",
              "      <td>South Korea</td>\n",
              "      <td>Asia Pacific</td>\n",
              "      <td>https://www.interbrand.com/assets/00000001527.png</td>\n",
              "      <td>2013</td>\n",
              "      <td>2</td>\n",
              "      <td>1</td>\n",
              "      <td>plain</td>\n",
              "      <td>mix</td>\n",
              "      <td>NaN</td>\n",
              "      <td>NaN</td>\n",
              "      <td>NaN</td>\n",
              "    </tr>\n",
              "    <tr>\n",
              "      <th>2</th>\n",
              "      <td>Kia</td>\n",
              "      <td>Automotive</td>\n",
              "      <td>South Korea</td>\n",
              "      <td>Asia Pacific</td>\n",
              "      <td>https://www.interbrand.com/assets/00000001538.png</td>\n",
              "      <td>2013</td>\n",
              "      <td>3</td>\n",
              "      <td>3</td>\n",
              "      <td>gradation</td>\n",
              "      <td>mix</td>\n",
              "      <td>NaN</td>\n",
              "      <td>NaN</td>\n",
              "      <td>NaN</td>\n",
              "    </tr>\n",
              "    <tr>\n",
              "      <th>3</th>\n",
              "      <td>SK Telecom</td>\n",
              "      <td>Telecommunications</td>\n",
              "      <td>South Korea</td>\n",
              "      <td>Asia Pacific</td>\n",
              "      <td>https://www.interbrand.com/assets/00000001738.png</td>\n",
              "      <td>2013</td>\n",
              "      <td>4</td>\n",
              "      <td>2</td>\n",
              "      <td>plain</td>\n",
              "      <td>mix</td>\n",
              "      <td>NaN</td>\n",
              "      <td>NaN</td>\n",
              "      <td>NaN</td>\n",
              "    </tr>\n",
              "    <tr>\n",
              "      <th>4</th>\n",
              "      <td>POSCO</td>\n",
              "      <td>Diversified</td>\n",
              "      <td>South Korea</td>\n",
              "      <td>Asia Pacific</td>\n",
              "      <td>https://www.interbrand.com/assets/00000001725.png</td>\n",
              "      <td>2013</td>\n",
              "      <td>5</td>\n",
              "      <td>1</td>\n",
              "      <td>plain</td>\n",
              "      <td>text</td>\n",
              "      <td>NaN</td>\n",
              "      <td>NaN</td>\n",
              "      <td>NaN</td>\n",
              "    </tr>\n",
              "  </tbody>\n",
              "</table>\n",
              "</div>"
            ],
            "text/plain": [
              "        names              sector      country        region  ... shape   R   G   B\n",
              "0     Samsung          Technology  South Korea  Asia Pacific  ...  text NaN NaN NaN\n",
              "1     Hyundai          Automotive  South Korea  Asia Pacific  ...   mix NaN NaN NaN\n",
              "2         Kia          Automotive  South Korea  Asia Pacific  ...   mix NaN NaN NaN\n",
              "3  SK Telecom  Telecommunications  South Korea  Asia Pacific  ...   mix NaN NaN NaN\n",
              "4       POSCO         Diversified  South Korea  Asia Pacific  ...  text NaN NaN NaN\n",
              "\n",
              "[5 rows x 13 columns]"
            ]
          },
          "metadata": {
            "tags": []
          },
          "execution_count": 23
        }
      ]
    },
    {
      "cell_type": "markdown",
      "metadata": {
        "id": "nk_8uUwgI22k"
      },
      "source": [
        ""
      ]
    },
    {
      "cell_type": "code",
      "metadata": {
        "id": "IwCyWHllJXsK",
        "outputId": "77b67c35-ab9d-44f1-f19d-1cb3ad655134",
        "colab": {
          "base_uri": "https://localhost:8080/",
          "height": 272
        }
      },
      "source": [
        "df2.dtypes"
      ],
      "execution_count": null,
      "outputs": [
        {
          "output_type": "execute_result",
          "data": {
            "text/plain": [
              "names           object\n",
              "sector          object\n",
              "country         object\n",
              "region          object\n",
              "Img             object\n",
              "year             int64\n",
              "rank             int64\n",
              "color count      int64\n",
              "meterial        object\n",
              "shape           object\n",
              "R              float64\n",
              "G              float64\n",
              "B              float64\n",
              "dtype: object"
            ]
          },
          "metadata": {
            "tags": []
          },
          "execution_count": 41
        }
      ]
    },
    {
      "cell_type": "markdown",
      "metadata": {
        "id": "6BrrGmZeNdxz"
      },
      "source": [
        "이미지 다운로드"
      ]
    },
    {
      "cell_type": "code",
      "metadata": {
        "id": "IVT_7Pz4M8mb"
      },
      "source": [
        "import os\n",
        "\n",
        "os.chdir('/content/drive/My Drive/kor')"
      ],
      "execution_count": null,
      "outputs": []
    },
    {
      "cell_type": "code",
      "metadata": {
        "id": "Vjrhx-h_MFrv"
      },
      "source": [
        "import urllib.request\n",
        "for i in range(len(df2)):\n",
        "  urllib.request.urlretrieve(df2['Img'][i],df2['names'][i]+'.jpg')  #기업 이름으로 이미지 저장"
      ],
      "execution_count": null,
      "outputs": []
    },
    {
      "cell_type": "markdown",
      "metadata": {
        "id": "XyiWXzzSNig6"
      },
      "source": [
        "\n",
        "RGB 추출"
      ]
    },
    {
      "cell_type": "code",
      "metadata": {
        "id": "QvaxBAIcKIlv",
        "outputId": "25f1bac4-7667-4a39-d6bd-439413a09b3c",
        "colab": {
          "base_uri": "https://localhost:8080/",
          "height": 72
        }
      },
      "source": [
        "import cv2\n",
        "\n",
        "from sklearn.cluster import KMeans\n",
        "image = cv2.imread('/content/drive/My Drive/kor/Hana Bank.jpg')\n",
        "image = cv2.cvtColor(image, cv2.COLOR_BGR2RGB) #BGR을 RGB\n",
        "image = image.reshape((image.shape[0] * image.shape[1], 3)) # height, width 통합\n",
        "K = 3\n",
        "clt = KMeans(n_clusters=K)\n",
        "clt.fit(image)\n",
        "clt.cluster_centers_.astype(int)"
      ],
      "execution_count": null,
      "outputs": [
        {
          "output_type": "execute_result",
          "data": {
            "text/plain": [
              "array([[ 42,  62,  56],\n",
              "       [251, 253, 253],\n",
              "       [162, 167, 165]])"
            ]
          },
          "metadata": {
            "tags": []
          },
          "execution_count": 96
        }
      ]
    },
    {
      "cell_type": "code",
      "metadata": {
        "id": "GJoN2YAUTEkb",
        "outputId": "c832fd0f-506d-4363-c32b-aaee681b62b9",
        "colab": {
          "base_uri": "https://localhost:8080/",
          "height": 35
        }
      },
      "source": [
        "centroid_histogram(clt)"
      ],
      "execution_count": null,
      "outputs": [
        {
          "output_type": "execute_result",
          "data": {
            "text/plain": [
              "array([0.1345   , 0.7242125, 0.1412875])"
            ]
          },
          "metadata": {
            "tags": []
          },
          "execution_count": 97
        }
      ]
    },
    {
      "cell_type": "code",
      "metadata": {
        "id": "qV4BSqbW7fhc",
        "outputId": "2476979d-a497-421b-b902-608c0e354097",
        "colab": {
          "base_uri": "https://localhost:8080/",
          "height": 145
        }
      },
      "source": [
        "image"
      ],
      "execution_count": null,
      "outputs": [
        {
          "output_type": "execute_result",
          "data": {
            "text/plain": [
              "array([[0, 0, 0],\n",
              "       [0, 0, 0],\n",
              "       [0, 0, 0],\n",
              "       ...,\n",
              "       [0, 0, 0],\n",
              "       [0, 0, 0],\n",
              "       [0, 0, 0]], dtype=uint8)"
            ]
          },
          "metadata": {
            "tags": []
          },
          "execution_count": 95
        }
      ]
    },
    {
      "cell_type": "code",
      "metadata": {
        "id": "hpQ4odEfQpZW"
      },
      "source": [
        "\n",
        "import numpy as np\n",
        "\n",
        "def centroid_histogram(clt):\n",
        "    # grab the number of different clusters and create a histogram\n",
        "    # based on the number of pixels assigned to each cluster\n",
        "    numLabels = np.arange(0, len(np.unique(clt.labels_)) + 1)\n",
        "    (hist, _) = np.histogram(clt.labels_, bins=numLabels)\n",
        "\n",
        "    # normalize the histogram, such that it sums to one\n",
        "    hist = hist.astype(\"float\")\n",
        "    hist /= hist.sum()\n",
        "\n",
        "    # return the histogram\n",
        "    return hist"
      ],
      "execution_count": null,
      "outputs": []
    },
    {
      "cell_type": "code",
      "metadata": {
        "id": "uFbjQatlTV-0",
        "outputId": "af008371-42f8-46b2-b56c-75534074c784",
        "colab": {
          "base_uri": "https://localhost:8080/",
          "height": 35
        }
      },
      "source": [
        "clt.cluster_centers_[np.where(np.argsort(-hist)==0)][0].astype('float64')  #가장 비중이 큰 색깔의 RGB\n",
        "#0,0,0이면 흰색 -> 가장 비중이 큰 색이어도 추출 X"
      ],
      "execution_count": null,
      "outputs": [
        {
          "output_type": "execute_result",
          "data": {
            "text/plain": [
              "array([0.00000000e+00, 8.25117752e-12, 3.81401577e-11])"
            ]
          },
          "metadata": {
            "tags": []
          },
          "execution_count": 67
        }
      ]
    },
    {
      "cell_type": "code",
      "metadata": {
        "id": "UTeDRWQaVzt4",
        "outputId": "a067481b-2883-4f12-aa64-a1be128113d2",
        "colab": {
          "base_uri": "https://localhost:8080/",
          "height": 326
        }
      },
      "source": [
        "from sklearn.cluster import KMeans\n",
        "import cv2\n",
        "\n",
        "\n",
        "for i in range(len(df2)):\n",
        "  if df2['color count'][i] == 1:\n",
        "    K = 2\n",
        "    clt = KMeans(n_clusters=K)\n",
        "    image = cv2.imread('/content/drive/My Drive/kor/'+df2['names'][i]+'.jpg')\n",
        "    image = cv2.cvtColor(image, cv2.COLOR_BGR2RGB) #BGR을 RGB\n",
        "    image = image.reshape((image.shape[0] * image.shape[1], 3)) # height, width 통합\n",
        "\n",
        "    clt.fit(image)\n",
        "    clt.cluster_centers_.astype(int)\n",
        "\n",
        "    hist = centroid_histogram(clt)\n",
        "\n",
        "    most = clt.cluster_centers_[np.where(np.argsort(-hist)==0)][0]\n",
        "    if most[0] >= 5 and most[1] >= 5 and most[2] >= 5 and most[0] <= 250 and most[1] <= 250 and most[2] <= 250 :  \n",
        "      #가장 많은 색깔이 RGB가 모두 250 이하이면 바로 RGB 추출\n",
        "      print('Dominant color is: rgb({})'.format(most))\n",
        "      df2.loc[i,'R'] = most[0].astype('int')\n",
        "      df2.loc[i,'G'] = most[1].astype('int')\n",
        "      df2.loc[i,'B'] = most[2].astype('int')\n",
        "    else :\n",
        "      most2 = clt.cluster_centers_[np.where(np.argsort(-hist)==1)][0]   \n",
        "      #가장 많은 색깔이 검은색이면 그 다음으로 많은 색깔 RGB\n",
        "      print('Dominant color is: rgb({})'.format(most2))\n",
        "      df2.loc[i,'R'] = most2[0].astype('int')\n",
        "      df2.loc[i,'G'] = most2[1].astype('int')\n",
        "      df2.loc[i,'B'] = most2[2].astype('int')"
      ],
      "execution_count": null,
      "outputs": [
        {
          "output_type": "stream",
          "text": [
            "Dominant color is: rgb([ 19.  40. 159.])\n",
            "Dominant color is: rgb([-7.94670996e-11  1.50188058e+01  3.24269671e+01])\n",
            "Dominant color is: rgb([  0.  88. 137.])\n",
            "Dominant color is: rgb([ 45. 180.   0.])\n",
            "Dominant color is: rgb([35. 31. 32.])\n",
            "Dominant color is: rgb([35. 31. 32.])\n",
            "Dominant color is: rgb([74. 67. 59.])\n",
            "Dominant color is: rgb([ 58. 123. 200.])\n",
            "Dominant color is: rgb([236.  28.  36.])\n",
            "Dominant color is: rgb([255. 205.   0.])\n",
            "Dominant color is: rgb([  6. 167. 226.])\n",
            "Dominant color is: rgb([236.  28.  36.])\n",
            "Dominant color is: rgb([ 12.  77. 162.])\n",
            "Dominant color is: rgb([208.  17.  43.])\n",
            "Dominant color is: rgb([ 67. 176.  73.])\n",
            "Dominant color is: rgb([92. 55. 35.])\n",
            "Dominant color is: rgb([21. 44. 83.])\n"
          ],
          "name": "stdout"
        }
      ]
    },
    {
      "cell_type": "code",
      "metadata": {
        "id": "Zq0dhJWcbORB",
        "outputId": "92cad542-c05c-4e2c-b7b0-41fc07398c19",
        "colab": {
          "base_uri": "https://localhost:8080/",
          "height": 599
        }
      },
      "source": [
        "for i in range(len(df2)):\n",
        "  if df2['color count'][i] == 2:\n",
        "    K = 3\n",
        "    clt = KMeans(n_clusters=K)\n",
        "    image = cv2.imread('/content/drive/My Drive/kor/'+df2['names'][i]+'.jpg')\n",
        "    image = cv2.cvtColor(image, cv2.COLOR_BGR2RGB) #BGR을 RGB\n",
        "    image = image.reshape((image.shape[0] * image.shape[1], 3)) # height, width 통합\n",
        "\n",
        "    clt.fit(image)\n",
        "    clt.cluster_centers_.astype(int)\n",
        "\n",
        "    hist = centroid_histogram(clt)\n",
        "\n",
        "    most = clt.cluster_centers_[np.where(np.argsort(-hist)==0)][0]\n",
        "    if most[0] >= 5 and most[1] >= 5 and most[2] >= 5 and most[0] <= 250 and most[1] <= 250 and most[2] <= 250 : \n",
        "      #가장 많은 색깔이 RGB가 모두 250 이하이면 바로 RGB 추출\n",
        "      print('Dominant color is: rgb({})'.format(most))\n",
        "      df2.loc[i,'R'] = most[0].astype('int')\n",
        "      df2.loc[i,'G'] = most[1].astype('int')\n",
        "      df2.loc[i,'B'] = most[2].astype('int')\n",
        "    else :\n",
        "      most2 = clt.cluster_centers_[np.where(np.argsort(-hist)==1)][0]   \n",
        "      #가장 많은 색깔이 검은색이면 그 다음으로 많은 색깔 RGB\n",
        "      print('Dominant color is: rgb({})'.format(most2))\n",
        "      df2.loc[i,'R'] = most2[0].astype('int')\n",
        "      df2.loc[i,'G'] = most2[1].astype('int')\n",
        "      df2.loc[i,'B'] = most2[2].astype('int')"
      ],
      "execution_count": null,
      "outputs": [
        {
          "output_type": "stream",
          "text": [
            "Dominant color is: rgb([238. 116.  33.])\n",
            "Dominant color is: rgb([119. 108.  97.])\n",
            "Dominant color is: rgb([ 12.98265306  77.72269635 162.37402597])\n"
          ],
          "name": "stdout"
        },
        {
          "output_type": "stream",
          "text": [
            "/usr/local/lib/python3.6/dist-packages/ipykernel_launcher.py:9: ConvergenceWarning: Number of distinct clusters (2) found smaller than n_clusters (3). Possibly due to duplicate points in X.\n",
            "  if __name__ == '__main__':\n"
          ],
          "name": "stderr"
        },
        {
          "output_type": "stream",
          "text": [
            "Dominant color is: rgb([ 12.  77. 162.])\n",
            "Dominant color is: rgb([227.04736044   6.40970693  19.38954939])\n"
          ],
          "name": "stdout"
        },
        {
          "output_type": "stream",
          "text": [
            "/usr/local/lib/python3.6/dist-packages/ipykernel_launcher.py:9: ConvergenceWarning: Number of distinct clusters (2) found smaller than n_clusters (3). Possibly due to duplicate points in X.\n",
            "  if __name__ == '__main__':\n"
          ],
          "name": "stderr"
        },
        {
          "output_type": "stream",
          "text": [
            "Dominant color is: rgb([ 12.  77. 162.])\n"
          ],
          "name": "stdout"
        },
        {
          "output_type": "stream",
          "text": [
            "/usr/local/lib/python3.6/dist-packages/ipykernel_launcher.py:9: ConvergenceWarning: Number of distinct clusters (2) found smaller than n_clusters (3). Possibly due to duplicate points in X.\n",
            "  if __name__ == '__main__':\n"
          ],
          "name": "stderr"
        },
        {
          "output_type": "stream",
          "text": [
            "Dominant color is: rgb([ 22.  65. 148.])\n",
            "Dominant color is: rgb([-4.82280882e-13  5.70000000e+01  1.17000000e+02])\n",
            "Dominant color is: rgb([238. 116.  33.])\n",
            "Dominant color is: rgb([83. 82. 73.])\n"
          ],
          "name": "stdout"
        },
        {
          "output_type": "stream",
          "text": [
            "/usr/local/lib/python3.6/dist-packages/ipykernel_launcher.py:9: ConvergenceWarning: Number of distinct clusters (2) found smaller than n_clusters (3). Possibly due to duplicate points in X.\n",
            "  if __name__ == '__main__':\n"
          ],
          "name": "stderr"
        },
        {
          "output_type": "stream",
          "text": [
            "Dominant color is: rgb([ 12.  77. 162.])\n",
            "Dominant color is: rgb([  2.  51. 106.])\n",
            "Dominant color is: rgb([3.15569793e-12 1.32000000e+02 7.40000000e+01])\n",
            "Dominant color is: rgb([31. 42. 81.])\n",
            "Dominant color is: rgb([-5.97388805e-12  1.52000000e+02  1.29000000e+02])\n"
          ],
          "name": "stdout"
        },
        {
          "output_type": "stream",
          "text": [
            "/usr/local/lib/python3.6/dist-packages/ipykernel_launcher.py:9: ConvergenceWarning: Number of distinct clusters (2) found smaller than n_clusters (3). Possibly due to duplicate points in X.\n",
            "  if __name__ == '__main__':\n"
          ],
          "name": "stderr"
        },
        {
          "output_type": "stream",
          "text": [
            "Dominant color is: rgb([ 22.  65. 148.])\n",
            "Dominant color is: rgb([88. 85. 58.])\n",
            "Dominant color is: rgb([ 4.00000000e+00  2.25153229e-13 -6.88338275e-14])\n",
            "Dominant color is: rgb([246. 128.  38.])\n",
            "Dominant color is: rgb([237. 134. 179.])\n",
            "Dominant color is: rgb([226.42696023  58.94042834  65.83676285])\n",
            "Dominant color is: rgb([248.71327939 248.53355545 247.54193241])\n"
          ],
          "name": "stdout"
        }
      ]
    },
    {
      "cell_type": "code",
      "metadata": {
        "id": "hlYIJ2sNGIED",
        "outputId": "0d246dc2-0125-41c1-bcc6-5e6b576bb442",
        "colab": {
          "base_uri": "https://localhost:8080/",
          "height": 235
        }
      },
      "source": [
        "for i in range(len(df2)):\n",
        "  if df2['color count'][i] == 3:\n",
        "    K = 4\n",
        "    clt = KMeans(n_clusters=K)\n",
        "    image = cv2.imread('/content/drive/My Drive/kor/'+df2['names'][i]+'.jpg')\n",
        "    image = cv2.cvtColor(image, cv2.COLOR_BGR2RGB) #BGR을 RGB\n",
        "    image = image.reshape((image.shape[0] * image.shape[1], 3)) # height, width 통합\n",
        "\n",
        "    clt.fit(image)\n",
        "    clt.cluster_centers_.astype(int)\n",
        "\n",
        "    hist = centroid_histogram(clt)\n",
        "\n",
        "    most = clt.cluster_centers_[np.where(np.argsort(-hist)==0)][0]\n",
        "    if most[0] >= 5 and most[1] >= 5 and most[2] >= 5 and most[0] <= 250 and most[1] <= 250 and most[2] <= 250 :  \n",
        "      #가장 많은 색깔이 RGB가 모두 250 이하이면 바로 RGB 추출\n",
        "      print('Dominant color is: rgb({})'.format(most))\n",
        "      df2.loc[i,'R'] = most[0].astype('int')\n",
        "      df2.loc[i,'G'] = most[1].astype('int')\n",
        "      df2.loc[i,'B'] = most[2].astype('int')\n",
        "    else :\n",
        "      most2 = clt.cluster_centers_[np.where(np.argsort(-hist)==1)][0]   \n",
        "      #가장 많은 색깔이 검은색이면 그 다음으로 많은 색깔 RGB\n",
        "      print('Dominant color is: rgb({})'.format(most2))\n",
        "      df2.loc[i,'R'] = most2[0].astype('int')\n",
        "      df2.loc[i,'G'] = most2[1].astype('int')\n",
        "      df2.loc[i,'B'] = most2[2].astype('int')"
      ],
      "execution_count": null,
      "outputs": [
        {
          "output_type": "stream",
          "text": [
            "Dominant color is: rgb([117.09001961   2.4490791   10.71479911])\n",
            "Dominant color is: rgb([198.29339672  32.06888537  81.95493925])\n",
            "Dominant color is: rgb([ 14.  65. 148.])\n",
            "Dominant color is: rgb([108.70937396 107.24937562 107.62874625])\n",
            "Dominant color is: rgb([1.20126131e-13 8.60000000e+01 1.53000000e+02])\n",
            "Dominant color is: rgb([  9.  44. 116.])\n",
            "Dominant color is: rgb([35. 25. 22.])\n",
            "Dominant color is: rgb([ 98.09940928  99.01603376 102.03687764])\n",
            "Dominant color is: rgb([109.87981157 110.06292059 112.27705249])\n",
            "Dominant color is: rgb([254.24876941 248.75653162 248.9761454 ])\n",
            "Dominant color is: rgb([226.05339145   6.46703895  19.44204576])\n",
            "Dominant color is: rgb([191.29048208  13.10331685  63.87144623])\n"
          ],
          "name": "stdout"
        }
      ]
    },
    {
      "cell_type": "code",
      "metadata": {
        "id": "uzMC6j8sGJzU",
        "outputId": "c1f3c1f8-acbc-4c96-f2fc-bc8672c45483",
        "colab": {
          "base_uri": "https://localhost:8080/",
          "height": 217
        }
      },
      "source": [
        "for i in range(len(df2)):\n",
        "  if df2['color count'][i] == 4:\n",
        "    K = 5\n",
        "    clt = KMeans(n_clusters=K)\n",
        "    image = cv2.imread('/content/drive/My Drive/kor/'+df2['names'][i]+'.jpg')\n",
        "    image = cv2.cvtColor(image, cv2.COLOR_BGR2RGB) #BGR을 RGB\n",
        "    image = image.reshape((image.shape[0] * image.shape[1], 3)) # height, width 통합\n",
        "\n",
        "    clt.fit(image)\n",
        "    clt.cluster_centers_.astype(int)\n",
        "\n",
        "    hist = centroid_histogram(clt)\n",
        "\n",
        "    most = clt.cluster_centers_[np.where(np.argsort(-hist)==0)][0]\n",
        "    if most[0] >= 5 and most[1] >= 5 and most[2] >= 5 and most[0] <= 250 and most[1] <= 250 and most[2] <= 250 : \n",
        "      #가장 많은 색깔이 RGB가 모두 250 이하이면 바로 RGB 추출\n",
        "      print('Dominant color is: rgb({})'.format(most))\n",
        "      df2.loc[i,'R'] = most[0].astype('int')\n",
        "      df2.loc[i,'G'] = most[1].astype('int')\n",
        "      df2.loc[i,'B'] = most[2].astype('int')\n",
        "    else :\n",
        "      most2 = clt.cluster_centers_[np.where(np.argsort(-hist)==1)][0]   \n",
        "      #가장 많은 색깔이 검은색이면 그 다음으로 많은 색깔 RGB\n",
        "      print('Dominant color is: rgb({})'.format(most2))\n",
        "      df2.loc[i,'R'] = most2[0].astype('int')\n",
        "      df2.loc[i,'G'] = most2[1].astype('int')\n",
        "      df2.loc[i,'B'] = most2[2].astype('int')"
      ],
      "execution_count": null,
      "outputs": [
        {
          "output_type": "stream",
          "text": [
            "Dominant color is: rgb([ 29.60961796  67.35475234 128.94624652])\n",
            "Dominant color is: rgb([-1.66267e-12  1.25000e+02  1.95000e+02])\n",
            "Dominant color is: rgb([6.75015599e-14 1.25000000e+02 1.95000000e+02])\n",
            "Dominant color is: rgb([250.99116131 180.90768475 131.90842131])\n",
            "Dominant color is: rgb([-9.5567998e-13  1.2800000e+02  1.9700000e+02])\n",
            "Dominant color is: rgb([  0.73829437 151.11492363 129.20792527])\n",
            "Dominant color is: rgb([215.  25.  33.])\n",
            "Dominant color is: rgb([227.06540212   6.5624431   19.53490137])\n",
            "Dominant color is: rgb([-1.9095836e-12  1.2800000e+02  1.9700000e+02])\n",
            "Dominant color is: rgb([  1.51183971 104.48332633 172.27308393])\n",
            "Dominant color is: rgb([ 4.17514912e-11 -3.78861387e-11 -7.86428700e-11])\n"
          ],
          "name": "stdout"
        }
      ]
    },
    {
      "cell_type": "code",
      "metadata": {
        "id": "tbk9gY-yGMEF",
        "outputId": "bd5cacec-5bfd-4414-9c33-88e2c4a64a47",
        "colab": {
          "base_uri": "https://localhost:8080/",
          "height": 72
        }
      },
      "source": [
        "for i in range(len(df2)):\n",
        "  if df2['color count'][i] == 5:\n",
        "    K = 6\n",
        "    clt = KMeans(n_clusters=K)\n",
        "    image = cv2.imread('/content/drive/My Drive/kor/'+df2['names'][i]+'.jpg')\n",
        "    image = cv2.cvtColor(image, cv2.COLOR_BGR2RGB) #BGR을 RGB\n",
        "    image = image.reshape((image.shape[0] * image.shape[1], 3)) # height, width 통합\n",
        "\n",
        "    clt.fit(image)\n",
        "    clt.cluster_centers_.astype(int)\n",
        "\n",
        "    hist = centroid_histogram(clt)\n",
        "\n",
        "    most = clt.cluster_centers_[np.where(np.argsort(-hist)==0)][0]\n",
        "    if most[0] >= 5 and most[1] >= 5 and most[2] >= 5 and most[0] <= 250 and most[1] <= 250 and most[2] <= 250 : \n",
        "      #가장 많은 색깔이 RGB가 모두 250 이하이면 바로 RGB 추출\n",
        "      print('Dominant color is: rgb({})'.format(most))\n",
        "      df2.loc[i,'R'] = most[0].astype('int')\n",
        "      df2.loc[i,'G'] = most[1].astype('int')\n",
        "      df2.loc[i,'B'] = most[2].astype('int')\n",
        "    else :\n",
        "      most2 = clt.cluster_centers_[np.where(np.argsort(-hist)==1)][0]   \n",
        "      #가장 많은 색깔이 검은색이면 그 다음으로 많은 색깔 RGB\n",
        "      print('Dominant color is: rgb({})'.format(most2))\n",
        "      df2.loc[i,'R'] = most2[0].astype('int')\n",
        "      df2.loc[i,'G'] = most2[1].astype('int')\n",
        "      df2.loc[i,'B'] = most2[2].astype('int')"
      ],
      "execution_count": null,
      "outputs": [
        {
          "output_type": "stream",
          "text": [
            "Dominant color is: rgb([230.79910581 210.39105812 178.78926975])\n",
            "Dominant color is: rgb([121.89389972 127.23601009 121.3209679 ])\n",
            "Dominant color is: rgb([84.08343846 88.18994413 97.37682465])\n"
          ],
          "name": "stdout"
        }
      ]
    },
    {
      "cell_type": "code",
      "metadata": {
        "id": "UWFSt_sAWCW2",
        "outputId": "5d465fbf-fe82-4b64-cab9-a4a1319443cd",
        "colab": {
          "base_uri": "https://localhost:8080/",
          "height": 72
        }
      },
      "source": [
        "for i in range(len(df2)):\n",
        "  if df2['color count'][i] == 6:\n",
        "    K = 7\n",
        "    clt = KMeans(n_clusters=K)\n",
        "    image = cv2.imread('/content/drive/My Drive/kor/'+df2['names'][i]+'.jpg')\n",
        "    image = cv2.cvtColor(image, cv2.COLOR_BGR2RGB) #BGR을 RGB\n",
        "    image = image.reshape((image.shape[0] * image.shape[1], 3)) # height, width 통합\n",
        "\n",
        "    clt.fit(image)\n",
        "    clt.cluster_centers_.astype(int)\n",
        "\n",
        "    hist = centroid_histogram(clt)\n",
        "\n",
        "    most = clt.cluster_centers_[np.where(np.argsort(-hist)==0)][0]\n",
        "    if most[0] >= 5 and most[1] >= 5 and most[2] >= 5 and most[0] <= 250 and most[1] <= 250 and most[2] <= 250 : \n",
        "      #가장 많은 색깔이 RGB가 모두 250 이하이면 바로 RGB 추출\n",
        "      print('Dominant color is: rgb({})'.format(most))\n",
        "      df2.loc[i,'R'] = most[0].astype('int')\n",
        "      df2.loc[i,'G'] = most[1].astype('int')\n",
        "      df2.loc[i,'B'] = most[2].astype('int')\n",
        "    else :\n",
        "      most2 = clt.cluster_centers_[np.where(np.argsort(-hist)==1)][0]   \n",
        "      #가장 많은 색깔이 검은색이면 그 다음으로 많은 색깔 RGB\n",
        "      print('Dominant color is: rgb({})'.format(most2))\n",
        "      df2.loc[i,'R'] = most2[0].astype('int')\n",
        "      df2.loc[i,'G'] = most2[1].astype('int')\n",
        "      df2.loc[i,'B'] = most2[2].astype('int')"
      ],
      "execution_count": null,
      "outputs": [
        {
          "output_type": "stream",
          "text": [
            "Dominant color is: rgb([238.68862629  90.10576071  71.65081241])\n",
            "Dominant color is: rgb([215.13941692 235.07464759 232.45504058])\n",
            "Dominant color is: rgb([254.34687954 254.13280116 253.8936865 ])\n"
          ],
          "name": "stdout"
        }
      ]
    },
    {
      "cell_type": "code",
      "metadata": {
        "id": "PCIrTkOrWEGM",
        "outputId": "c20edfec-07cc-4cc3-c2dc-995dfef06ff1",
        "colab": {
          "base_uri": "https://localhost:8080/",
          "height": 90
        }
      },
      "source": [
        "for i in range(len(df2)):\n",
        "  if df2['color count'][i] == 7:\n",
        "    K = 8\n",
        "    clt = KMeans(n_clusters=K)\n",
        "    image = cv2.imread('/content/drive/My Drive/kor/'+df2['names'][i]+'.jpg')\n",
        "    image = cv2.cvtColor(image, cv2.COLOR_BGR2RGB) #BGR을 RGB\n",
        "    image = image.reshape((image.shape[0] * image.shape[1], 3)) # height, width 통합\n",
        "\n",
        "    clt.fit(image)\n",
        "    clt.cluster_centers_.astype(int)\n",
        "\n",
        "    hist = centroid_histogram(clt)\n",
        "\n",
        "    most = clt.cluster_centers_[np.where(np.argsort(-hist)==0)][0]\n",
        "    if most[0] >= 5 and most[1] >= 5 and most[2] >= 5 and most[0] <= 250 and most[1] <= 250 and most[2] <= 250 : \n",
        "      #가장 많은 색깔이 RGB가 모두 250 이하이면 바로 RGB 추출\n",
        "      print('Dominant color is: rgb({})'.format(most))\n",
        "      df2.loc[i,'R'] = most[0].astype('int')\n",
        "      df2.loc[i,'G'] = most[1].astype('int')\n",
        "      df2.loc[i,'B'] = most[2].astype('int')\n",
        "    else :\n",
        "      most2 = clt.cluster_centers_[np.where(np.argsort(-hist)==1)][0]   \n",
        "      #가장 많은 색깔이 검은색이면 그 다음으로 많은 색깔 RGB\n",
        "      print('Dominant color is: rgb({})'.format(most2))\n",
        "      df2.loc[i,'R'] = most2[0].astype('int')\n",
        "      df2.loc[i,'G'] = most2[1].astype('int')\n",
        "      df2.loc[i,'B'] = most2[2].astype('int')"
      ],
      "execution_count": null,
      "outputs": [
        {
          "output_type": "stream",
          "text": [
            "Dominant color is: rgb([ 32.03481644  47.23447605 124.17539509])\n",
            "Dominant color is: rgb([77. 77. 79.])\n",
            "Dominant color is: rgb([118.79690949 191.01931567  74.50220751])\n",
            "Dominant color is: rgb([  0.24597259 127.20455638  65.05097379])\n"
          ],
          "name": "stdout"
        }
      ]
    },
    {
      "cell_type": "code",
      "metadata": {
        "id": "JqE65sGpZHM_",
        "outputId": "be04d397-1780-4fc2-a8c9-a1375c701092",
        "colab": {
          "base_uri": "https://localhost:8080/",
          "height": 498
        }
      },
      "source": [
        "df2.head(n=15)[['names','color count','R','G','B']]"
      ],
      "execution_count": null,
      "outputs": [
        {
          "output_type": "execute_result",
          "data": {
            "text/html": [
              "<div>\n",
              "<style scoped>\n",
              "    .dataframe tbody tr th:only-of-type {\n",
              "        vertical-align: middle;\n",
              "    }\n",
              "\n",
              "    .dataframe tbody tr th {\n",
              "        vertical-align: top;\n",
              "    }\n",
              "\n",
              "    .dataframe thead th {\n",
              "        text-align: right;\n",
              "    }\n",
              "</style>\n",
              "<table border=\"1\" class=\"dataframe\">\n",
              "  <thead>\n",
              "    <tr style=\"text-align: right;\">\n",
              "      <th></th>\n",
              "      <th>names</th>\n",
              "      <th>color count</th>\n",
              "      <th>R</th>\n",
              "      <th>G</th>\n",
              "      <th>B</th>\n",
              "    </tr>\n",
              "  </thead>\n",
              "  <tbody>\n",
              "    <tr>\n",
              "      <th>0</th>\n",
              "      <td>Samsung</td>\n",
              "      <td>1</td>\n",
              "      <td>19.0</td>\n",
              "      <td>39.0</td>\n",
              "      <td>159.0</td>\n",
              "    </tr>\n",
              "    <tr>\n",
              "      <th>1</th>\n",
              "      <td>Hyundai</td>\n",
              "      <td>1</td>\n",
              "      <td>0.0</td>\n",
              "      <td>15.0</td>\n",
              "      <td>32.0</td>\n",
              "    </tr>\n",
              "    <tr>\n",
              "      <th>2</th>\n",
              "      <td>Kia</td>\n",
              "      <td>3</td>\n",
              "      <td>117.0</td>\n",
              "      <td>2.0</td>\n",
              "      <td>10.0</td>\n",
              "    </tr>\n",
              "    <tr>\n",
              "      <th>3</th>\n",
              "      <td>SK Telecom</td>\n",
              "      <td>2</td>\n",
              "      <td>238.0</td>\n",
              "      <td>116.0</td>\n",
              "      <td>32.0</td>\n",
              "    </tr>\n",
              "    <tr>\n",
              "      <th>4</th>\n",
              "      <td>POSCO</td>\n",
              "      <td>1</td>\n",
              "      <td>0.0</td>\n",
              "      <td>88.0</td>\n",
              "      <td>137.0</td>\n",
              "    </tr>\n",
              "    <tr>\n",
              "      <th>5</th>\n",
              "      <td>KB Kookmin Bank</td>\n",
              "      <td>2</td>\n",
              "      <td>118.0</td>\n",
              "      <td>107.0</td>\n",
              "      <td>97.0</td>\n",
              "    </tr>\n",
              "    <tr>\n",
              "      <th>6</th>\n",
              "      <td>Samsung Life Insurance</td>\n",
              "      <td>2</td>\n",
              "      <td>12.0</td>\n",
              "      <td>77.0</td>\n",
              "      <td>162.0</td>\n",
              "    </tr>\n",
              "    <tr>\n",
              "      <th>7</th>\n",
              "      <td>Naver</td>\n",
              "      <td>1</td>\n",
              "      <td>44.0</td>\n",
              "      <td>179.0</td>\n",
              "      <td>0.0</td>\n",
              "    </tr>\n",
              "    <tr>\n",
              "      <th>8</th>\n",
              "      <td>Shinhan Card</td>\n",
              "      <td>5</td>\n",
              "      <td>230.0</td>\n",
              "      <td>210.0</td>\n",
              "      <td>178.0</td>\n",
              "    </tr>\n",
              "    <tr>\n",
              "      <th>9</th>\n",
              "      <td>LG</td>\n",
              "      <td>3</td>\n",
              "      <td>198.0</td>\n",
              "      <td>32.0</td>\n",
              "      <td>81.0</td>\n",
              "    </tr>\n",
              "    <tr>\n",
              "      <th>10</th>\n",
              "      <td>Shinhan Bank</td>\n",
              "      <td>5</td>\n",
              "      <td>121.0</td>\n",
              "      <td>127.0</td>\n",
              "      <td>121.0</td>\n",
              "    </tr>\n",
              "    <tr>\n",
              "      <th>11</th>\n",
              "      <td>Korea Telecom</td>\n",
              "      <td>6</td>\n",
              "      <td>238.0</td>\n",
              "      <td>90.0</td>\n",
              "      <td>71.0</td>\n",
              "    </tr>\n",
              "    <tr>\n",
              "      <th>12</th>\n",
              "      <td>Hana Bank</td>\n",
              "      <td>6</td>\n",
              "      <td>215.0</td>\n",
              "      <td>235.0</td>\n",
              "      <td>232.0</td>\n",
              "    </tr>\n",
              "    <tr>\n",
              "      <th>13</th>\n",
              "      <td>Hyundai Heavy Industries Co.</td>\n",
              "      <td>3</td>\n",
              "      <td>14.0</td>\n",
              "      <td>65.0</td>\n",
              "      <td>147.0</td>\n",
              "    </tr>\n",
              "    <tr>\n",
              "      <th>14</th>\n",
              "      <td>LG Chem</td>\n",
              "      <td>3</td>\n",
              "      <td>108.0</td>\n",
              "      <td>107.0</td>\n",
              "      <td>107.0</td>\n",
              "    </tr>\n",
              "  </tbody>\n",
              "</table>\n",
              "</div>"
            ],
            "text/plain": [
              "                           names  color count      R      G      B\n",
              "0                        Samsung            1   19.0   39.0  159.0\n",
              "1                        Hyundai            1    0.0   15.0   32.0\n",
              "2                            Kia            3  117.0    2.0   10.0\n",
              "3                     SK Telecom            2  238.0  116.0   32.0\n",
              "4                          POSCO            1    0.0   88.0  137.0\n",
              "5                KB Kookmin Bank            2  118.0  107.0   97.0\n",
              "6         Samsung Life Insurance            2   12.0   77.0  162.0\n",
              "7                          Naver            1   44.0  179.0    0.0\n",
              "8                   Shinhan Card            5  230.0  210.0  178.0\n",
              "9                             LG            3  198.0   32.0   81.0\n",
              "10                  Shinhan Bank            5  121.0  127.0  121.0\n",
              "11                 Korea Telecom            6  238.0   90.0   71.0\n",
              "12                     Hana Bank            6  215.0  235.0  232.0\n",
              "13  Hyundai Heavy Industries Co.            3   14.0   65.0  147.0\n",
              "14                       LG Chem            3  108.0  107.0  107.0"
            ]
          },
          "metadata": {
            "tags": []
          },
          "execution_count": 161
        }
      ]
    },
    {
      "cell_type": "code",
      "metadata": {
        "id": "Lt-yHwCYHUN4"
      },
      "source": [
        "df2.to_csv('kor_rgb.csv',index=False,header=True)"
      ],
      "execution_count": null,
      "outputs": []
    }
  ]
}