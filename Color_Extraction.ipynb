{
  "nbformat": 4,
  "nbformat_minor": 0,
  "metadata": {
    "colab": {
      "name": "색채 추출.ipynb",
      "provenance": [],
      "collapsed_sections": [],
      "mount_file_id": "1l3t4woFeSp9wBVe8dBbOxk3cDNc833Bx",
      "authorship_tag": "ABX9TyPTboWCxw84Nuy0xNqxqWwh",
      "include_colab_link": true
    },
    "kernelspec": {
      "name": "python3",
      "display_name": "Python 3"
    }
  },
  "cells": [
    {
      "cell_type": "markdown",
      "metadata": {
        "id": "view-in-github",
        "colab_type": "text"
      },
      "source": [
        "<a href=\"https://colab.research.google.com/github/GGoYoungHee/RGBrand/blob/main/Color_Extraction.ipynb\" target=\"_parent\"><img src=\"https://colab.research.google.com/assets/colab-badge.svg\" alt=\"Open In Colab\"/></a>"
      ]
    },
    {
      "cell_type": "code",
      "metadata": {
        "id": "iiLC5XYq57Fq"
      },
      "source": [
        "import pandas as pd"
      ],
      "execution_count": null,
      "outputs": []
    },
    {
      "cell_type": "code",
      "metadata": {
        "id": "9lJXmPwZ6Je3"
      },
      "source": [
        "df=pd.read_csv('/content/drive/My Drive/컬러 마케팅/2. 데이터/interbrand/interbrand.csv',encoding='cp949')"
      ],
      "execution_count": null,
      "outputs": []
    },
    {
      "cell_type": "code",
      "metadata": {
        "id": "RPsvGz_U-R5V"
      },
      "source": [
        ""
      ],
      "execution_count": null,
      "outputs": []
    },
    {
      "cell_type": "code",
      "metadata": {
        "id": "xQ7ZLKmE6SxW",
        "outputId": "50eacf29-8359-4611-db67-61b7c1bebbf9",
        "colab": {
          "base_uri": "https://localhost:8080/",
          "height": 200
        }
      },
      "source": [
        "df.head()"
      ],
      "execution_count": null,
      "outputs": [
        {
          "output_type": "execute_result",
          "data": {
            "text/html": [
              "<div>\n",
              "<style scoped>\n",
              "    .dataframe tbody tr th:only-of-type {\n",
              "        vertical-align: middle;\n",
              "    }\n",
              "\n",
              "    .dataframe tbody tr th {\n",
              "        vertical-align: top;\n",
              "    }\n",
              "\n",
              "    .dataframe thead th {\n",
              "        text-align: right;\n",
              "    }\n",
              "</style>\n",
              "<table border=\"1\" class=\"dataframe\">\n",
              "  <thead>\n",
              "    <tr style=\"text-align: right;\">\n",
              "      <th></th>\n",
              "      <th>names</th>\n",
              "      <th>Img</th>\n",
              "      <th>R</th>\n",
              "      <th>G</th>\n",
              "      <th>B</th>\n",
              "      <th>text color</th>\n",
              "      <th>로고 유형</th>\n",
              "      <th>비고</th>\n",
              "      <th>color_1</th>\n",
              "      <th>color_2</th>\n",
              "      <th>color_3</th>\n",
              "      <th>color_3.1</th>\n",
              "      <th>Unnamed: 12</th>\n",
              "      <th>Unnamed: 13</th>\n",
              "    </tr>\n",
              "  </thead>\n",
              "  <tbody>\n",
              "    <tr>\n",
              "      <th>0</th>\n",
              "      <td>3M</td>\n",
              "      <td>https://www.interbrand.com/assets/00000001482.png</td>\n",
              "      <td>237</td>\n",
              "      <td>32</td>\n",
              "      <td>35</td>\n",
              "      <td>매치</td>\n",
              "      <td>1.0</td>\n",
              "      <td>NaN</td>\n",
              "      <td>237/32/35</td>\n",
              "      <td>NaN</td>\n",
              "      <td>NaN</td>\n",
              "      <td>NaN</td>\n",
              "      <td>NaN</td>\n",
              "      <td>NaN</td>\n",
              "    </tr>\n",
              "    <tr>\n",
              "      <th>1</th>\n",
              "      <td>Absolut</td>\n",
              "      <td>https://www.interbrand.com/assets/00000000005.png</td>\n",
              "      <td>14</td>\n",
              "      <td>80</td>\n",
              "      <td>157</td>\n",
              "      <td>매치</td>\n",
              "      <td>1.0</td>\n",
              "      <td>NaN</td>\n",
              "      <td>14/80/157</td>\n",
              "      <td>NaN</td>\n",
              "      <td>NaN</td>\n",
              "      <td>NaN</td>\n",
              "      <td>NaN</td>\n",
              "      <td>NaN</td>\n",
              "    </tr>\n",
              "    <tr>\n",
              "      <th>2</th>\n",
              "      <td>Accenture</td>\n",
              "      <td>https://www.interbrand.com/assets/00000001483.png</td>\n",
              "      <td>0</td>\n",
              "      <td>0</td>\n",
              "      <td>0</td>\n",
              "      <td>매치</td>\n",
              "      <td>4.0</td>\n",
              "      <td>다색</td>\n",
              "      <td>0/0/0</td>\n",
              "      <td>189/0/254</td>\n",
              "      <td>NaN</td>\n",
              "      <td>NaN</td>\n",
              "      <td>NaN</td>\n",
              "      <td>NaN</td>\n",
              "    </tr>\n",
              "    <tr>\n",
              "      <th>3</th>\n",
              "      <td>adidas</td>\n",
              "      <td>https://www.interbrand.com/assets/00000001484.png</td>\n",
              "      <td>0</td>\n",
              "      <td>0</td>\n",
              "      <td>0</td>\n",
              "      <td>매치</td>\n",
              "      <td>4.0</td>\n",
              "      <td>NaN</td>\n",
              "      <td>0/0/0</td>\n",
              "      <td>NaN</td>\n",
              "      <td>NaN</td>\n",
              "      <td>NaN</td>\n",
              "      <td>NaN</td>\n",
              "      <td>NaN</td>\n",
              "    </tr>\n",
              "    <tr>\n",
              "      <th>4</th>\n",
              "      <td>Adobe</td>\n",
              "      <td>https://www.interbrand.com/assets/00000001485.png</td>\n",
              "      <td>255</td>\n",
              "      <td>0</td>\n",
              "      <td>0</td>\n",
              "      <td>무채색</td>\n",
              "      <td>4.0</td>\n",
              "      <td>다색</td>\n",
              "      <td>254/0/0</td>\n",
              "      <td>0/0/0</td>\n",
              "      <td>NaN</td>\n",
              "      <td>NaN</td>\n",
              "      <td>NaN</td>\n",
              "      <td>NaN</td>\n",
              "    </tr>\n",
              "  </tbody>\n",
              "</table>\n",
              "</div>"
            ],
            "text/plain": [
              "       names  ... Unnamed: 13\n",
              "0         3M  ...         NaN\n",
              "1    Absolut  ...         NaN\n",
              "2  Accenture  ...         NaN\n",
              "3     adidas  ...         NaN\n",
              "4      Adobe  ...         NaN\n",
              "\n",
              "[5 rows x 14 columns]"
            ]
          },
          "metadata": {
            "tags": []
          },
          "execution_count": 11
        }
      ]
    },
    {
      "cell_type": "code",
      "metadata": {
        "id": "6fmUnb6C6URK"
      },
      "source": [
        "def rgb2hsv(r,g,b):\n",
        "    r, g, b = r/255, g/255, b/255\n",
        "    mx = max(r,g,b)\n",
        "    mn = min(r,g,b)\n",
        "    df = mx - mn\n",
        "    v = mx\n",
        "    \n",
        "    if v == 0 :\n",
        "        s = 0\n",
        "    else:\n",
        "        s = df / v\n",
        "\n",
        "    if v == r:\n",
        "        h = ( 60 * (g-b) ) / df\n",
        "    elif v == g:\n",
        "        h = 120 + ( 60 * (b-r) ) / df\n",
        "    elif v == b:\n",
        "        h = 240 + ( 60 * (r-g) ) / df\n",
        "    \n",
        "    if df == 0:   #r = g = b 가 모두 0일 때 h는 0\n",
        "        h = 0\n",
        "    \n",
        "    if h < 0:\n",
        "        h = h +360  # 문제 발생\n",
        "    return h, s, v"
      ],
      "execution_count": null,
      "outputs": []
    },
    {
      "cell_type": "code",
      "metadata": {
        "id": "0yCifndI7QLh",
        "outputId": "9494d6bb-2290-49f8-9933-5c4f1fc45ff1",
        "colab": {
          "base_uri": "https://localhost:8080/",
          "height": 52
        }
      },
      "source": [
        "hsv=[]\n",
        "for i in range(len(df)):\n",
        "  hsv.append(rgb2hsv(df['R'][i],df['G'][i],df['B'][i]))"
      ],
      "execution_count": null,
      "outputs": [
        {
          "output_type": "stream",
          "text": [
            "/usr/local/lib/python3.6/dist-packages/ipykernel_launcher.py:14: RuntimeWarning: invalid value encountered in double_scalars\n",
            "  \n"
          ],
          "name": "stderr"
        }
      ]
    },
    {
      "cell_type": "code",
      "metadata": {
        "id": "2alcGYKW7bXl"
      },
      "source": [
        "data=pd.DataFrame(hsv)\n",
        "data=data.rename(columns={0:'H',1:'S',2:'V'})"
      ],
      "execution_count": null,
      "outputs": []
    },
    {
      "cell_type": "code",
      "metadata": {
        "id": "lUyjLscU7nlx",
        "outputId": "c4970162-a486-4b17-c4fb-ab62eadaebf6",
        "colab": {
          "base_uri": "https://localhost:8080/",
          "height": 411
        }
      },
      "source": [
        "data"
      ],
      "execution_count": null,
      "outputs": [
        {
          "output_type": "execute_result",
          "data": {
            "text/html": [
              "<div>\n",
              "<style scoped>\n",
              "    .dataframe tbody tr th:only-of-type {\n",
              "        vertical-align: middle;\n",
              "    }\n",
              "\n",
              "    .dataframe tbody tr th {\n",
              "        vertical-align: top;\n",
              "    }\n",
              "\n",
              "    .dataframe thead th {\n",
              "        text-align: right;\n",
              "    }\n",
              "</style>\n",
              "<table border=\"1\" class=\"dataframe\">\n",
              "  <thead>\n",
              "    <tr style=\"text-align: right;\">\n",
              "      <th></th>\n",
              "      <th>H</th>\n",
              "      <th>S</th>\n",
              "      <th>V</th>\n",
              "    </tr>\n",
              "  </thead>\n",
              "  <tbody>\n",
              "    <tr>\n",
              "      <th>0</th>\n",
              "      <td>359.121951</td>\n",
              "      <td>0.864979</td>\n",
              "      <td>0.929412</td>\n",
              "    </tr>\n",
              "    <tr>\n",
              "      <th>1</th>\n",
              "      <td>212.307692</td>\n",
              "      <td>0.910828</td>\n",
              "      <td>0.615686</td>\n",
              "    </tr>\n",
              "    <tr>\n",
              "      <th>2</th>\n",
              "      <td>0.000000</td>\n",
              "      <td>0.000000</td>\n",
              "      <td>0.000000</td>\n",
              "    </tr>\n",
              "    <tr>\n",
              "      <th>3</th>\n",
              "      <td>0.000000</td>\n",
              "      <td>0.000000</td>\n",
              "      <td>0.000000</td>\n",
              "    </tr>\n",
              "    <tr>\n",
              "      <th>4</th>\n",
              "      <td>0.000000</td>\n",
              "      <td>1.000000</td>\n",
              "      <td>1.000000</td>\n",
              "    </tr>\n",
              "    <tr>\n",
              "      <th>...</th>\n",
              "      <td>...</td>\n",
              "      <td>...</td>\n",
              "      <td>...</td>\n",
              "    </tr>\n",
              "    <tr>\n",
              "      <th>236</th>\n",
              "      <td>194.210526</td>\n",
              "      <td>0.304000</td>\n",
              "      <td>0.980392</td>\n",
              "    </tr>\n",
              "    <tr>\n",
              "      <th>237</th>\n",
              "      <td>354.754098</td>\n",
              "      <td>0.843318</td>\n",
              "      <td>0.850980</td>\n",
              "    </tr>\n",
              "    <tr>\n",
              "      <th>238</th>\n",
              "      <td>247.200000</td>\n",
              "      <td>0.810811</td>\n",
              "      <td>0.725490</td>\n",
              "    </tr>\n",
              "    <tr>\n",
              "      <th>239</th>\n",
              "      <td>0.000000</td>\n",
              "      <td>0.000000</td>\n",
              "      <td>0.000000</td>\n",
              "    </tr>\n",
              "    <tr>\n",
              "      <th>240</th>\n",
              "      <td>216.503497</td>\n",
              "      <td>0.821839</td>\n",
              "      <td>0.682353</td>\n",
              "    </tr>\n",
              "  </tbody>\n",
              "</table>\n",
              "<p>241 rows × 3 columns</p>\n",
              "</div>"
            ],
            "text/plain": [
              "              H         S         V\n",
              "0    359.121951  0.864979  0.929412\n",
              "1    212.307692  0.910828  0.615686\n",
              "2      0.000000  0.000000  0.000000\n",
              "3      0.000000  0.000000  0.000000\n",
              "4      0.000000  1.000000  1.000000\n",
              "..          ...       ...       ...\n",
              "236  194.210526  0.304000  0.980392\n",
              "237  354.754098  0.843318  0.850980\n",
              "238  247.200000  0.810811  0.725490\n",
              "239    0.000000  0.000000  0.000000\n",
              "240  216.503497  0.821839  0.682353\n",
              "\n",
              "[241 rows x 3 columns]"
            ]
          },
          "metadata": {
            "tags": []
          },
          "execution_count": 29
        }
      ]
    },
    {
      "cell_type": "code",
      "metadata": {
        "id": "_N8XGMJC76Mx"
      },
      "source": [
        "def hsv2color(h):\n",
        "  if 0<=h<15 or 360-15<=h<=360:\n",
        "    color='빨강'\n",
        "  elif 15<=h<45:\n",
        "    color='주황'\n",
        "  elif 45<=h<75:\n",
        "    color='노랑'\n",
        "  elif 75<=h<105:\n",
        "    color='연두'\n",
        "  elif 105<=h<135:\n",
        "    color='라임'\n",
        "  elif 135<=h<165:\n",
        "    color='백록'# 단어 이상해\n",
        "  elif 165<=h<195:\n",
        "    color='옥색'\n",
        "  elif 195<=h<225:\n",
        "    color='바다색'\n",
        "  elif 225<=h<255:\n",
        "    color='파랑'\n",
        "  elif 255<=h<285:\n",
        "    color='보라'\n",
        "  elif 285<=h<315:\n",
        "    color='마젠타'\n",
        "  elif 315<=h<345:\n",
        "    color='진분홍'\n",
        "  return color"
      ],
      "execution_count": null,
      "outputs": []
    },
    {
      "cell_type": "code",
      "metadata": {
        "id": "jHRUPXDo9lft",
        "outputId": "38194909-9678-4f30-a9bd-5db04175d728",
        "colab": {
          "base_uri": "https://localhost:8080/",
          "height": 161
        }
      },
      "source": [
        "data['color']=pd.Series()\n",
        "for i in range(241):\n",
        "  data['color'][i]=hsv2color(data['H'][i])"
      ],
      "execution_count": null,
      "outputs": [
        {
          "output_type": "stream",
          "text": [
            "/usr/local/lib/python3.6/dist-packages/ipykernel_launcher.py:1: DeprecationWarning: The default dtype for empty Series will be 'object' instead of 'float64' in a future version. Specify a dtype explicitly to silence this warning.\n",
            "  \"\"\"Entry point for launching an IPython kernel.\n",
            "/usr/local/lib/python3.6/dist-packages/ipykernel_launcher.py:3: SettingWithCopyWarning: \n",
            "A value is trying to be set on a copy of a slice from a DataFrame\n",
            "\n",
            "See the caveats in the documentation: https://pandas.pydata.org/pandas-docs/stable/user_guide/indexing.html#returning-a-view-versus-a-copy\n",
            "  This is separate from the ipykernel package so we can avoid doing imports until\n"
          ],
          "name": "stderr"
        }
      ]
    },
    {
      "cell_type": "code",
      "metadata": {
        "id": "JNpvN7AP97s9",
        "outputId": "0939f0b3-818a-4abf-bfdc-f2b685ed2db3",
        "colab": {
          "base_uri": "https://localhost:8080/",
          "height": 411
        }
      },
      "source": [
        "data"
      ],
      "execution_count": null,
      "outputs": [
        {
          "output_type": "execute_result",
          "data": {
            "text/html": [
              "<div>\n",
              "<style scoped>\n",
              "    .dataframe tbody tr th:only-of-type {\n",
              "        vertical-align: middle;\n",
              "    }\n",
              "\n",
              "    .dataframe tbody tr th {\n",
              "        vertical-align: top;\n",
              "    }\n",
              "\n",
              "    .dataframe thead th {\n",
              "        text-align: right;\n",
              "    }\n",
              "</style>\n",
              "<table border=\"1\" class=\"dataframe\">\n",
              "  <thead>\n",
              "    <tr style=\"text-align: right;\">\n",
              "      <th></th>\n",
              "      <th>H</th>\n",
              "      <th>S</th>\n",
              "      <th>V</th>\n",
              "      <th>color</th>\n",
              "    </tr>\n",
              "  </thead>\n",
              "  <tbody>\n",
              "    <tr>\n",
              "      <th>0</th>\n",
              "      <td>359.121951</td>\n",
              "      <td>0.864979</td>\n",
              "      <td>0.929412</td>\n",
              "      <td>빨강</td>\n",
              "    </tr>\n",
              "    <tr>\n",
              "      <th>1</th>\n",
              "      <td>212.307692</td>\n",
              "      <td>0.910828</td>\n",
              "      <td>0.615686</td>\n",
              "      <td>바다색</td>\n",
              "    </tr>\n",
              "    <tr>\n",
              "      <th>2</th>\n",
              "      <td>0.000000</td>\n",
              "      <td>0.000000</td>\n",
              "      <td>0.000000</td>\n",
              "      <td>빨강</td>\n",
              "    </tr>\n",
              "    <tr>\n",
              "      <th>3</th>\n",
              "      <td>0.000000</td>\n",
              "      <td>0.000000</td>\n",
              "      <td>0.000000</td>\n",
              "      <td>빨강</td>\n",
              "    </tr>\n",
              "    <tr>\n",
              "      <th>4</th>\n",
              "      <td>0.000000</td>\n",
              "      <td>1.000000</td>\n",
              "      <td>1.000000</td>\n",
              "      <td>빨강</td>\n",
              "    </tr>\n",
              "    <tr>\n",
              "      <th>...</th>\n",
              "      <td>...</td>\n",
              "      <td>...</td>\n",
              "      <td>...</td>\n",
              "      <td>...</td>\n",
              "    </tr>\n",
              "    <tr>\n",
              "      <th>236</th>\n",
              "      <td>194.210526</td>\n",
              "      <td>0.304000</td>\n",
              "      <td>0.980392</td>\n",
              "      <td>옥색</td>\n",
              "    </tr>\n",
              "    <tr>\n",
              "      <th>237</th>\n",
              "      <td>354.754098</td>\n",
              "      <td>0.843318</td>\n",
              "      <td>0.850980</td>\n",
              "      <td>빨강</td>\n",
              "    </tr>\n",
              "    <tr>\n",
              "      <th>238</th>\n",
              "      <td>247.200000</td>\n",
              "      <td>0.810811</td>\n",
              "      <td>0.725490</td>\n",
              "      <td>파랑</td>\n",
              "    </tr>\n",
              "    <tr>\n",
              "      <th>239</th>\n",
              "      <td>0.000000</td>\n",
              "      <td>0.000000</td>\n",
              "      <td>0.000000</td>\n",
              "      <td>빨강</td>\n",
              "    </tr>\n",
              "    <tr>\n",
              "      <th>240</th>\n",
              "      <td>216.503497</td>\n",
              "      <td>0.821839</td>\n",
              "      <td>0.682353</td>\n",
              "      <td>바다색</td>\n",
              "    </tr>\n",
              "  </tbody>\n",
              "</table>\n",
              "<p>241 rows × 4 columns</p>\n",
              "</div>"
            ],
            "text/plain": [
              "              H         S         V color\n",
              "0    359.121951  0.864979  0.929412    빨강\n",
              "1    212.307692  0.910828  0.615686   바다색\n",
              "2      0.000000  0.000000  0.000000    빨강\n",
              "3      0.000000  0.000000  0.000000    빨강\n",
              "4      0.000000  1.000000  1.000000    빨강\n",
              "..          ...       ...       ...   ...\n",
              "236  194.210526  0.304000  0.980392    옥색\n",
              "237  354.754098  0.843318  0.850980    빨강\n",
              "238  247.200000  0.810811  0.725490    파랑\n",
              "239    0.000000  0.000000  0.000000    빨강\n",
              "240  216.503497  0.821839  0.682353   바다색\n",
              "\n",
              "[241 rows x 4 columns]"
            ]
          },
          "metadata": {
            "tags": []
          },
          "execution_count": 32
        }
      ]
    },
    {
      "cell_type": "code",
      "metadata": {
        "id": "cy8F6pe4_ZC8",
        "outputId": "3f1ce455-6709-4b95-e317-17a09d4a7da5",
        "colab": {
          "base_uri": "https://localhost:8080/",
          "height": 200
        }
      },
      "source": [
        "df.head()"
      ],
      "execution_count": null,
      "outputs": [
        {
          "output_type": "execute_result",
          "data": {
            "text/html": [
              "<div>\n",
              "<style scoped>\n",
              "    .dataframe tbody tr th:only-of-type {\n",
              "        vertical-align: middle;\n",
              "    }\n",
              "\n",
              "    .dataframe tbody tr th {\n",
              "        vertical-align: top;\n",
              "    }\n",
              "\n",
              "    .dataframe thead th {\n",
              "        text-align: right;\n",
              "    }\n",
              "</style>\n",
              "<table border=\"1\" class=\"dataframe\">\n",
              "  <thead>\n",
              "    <tr style=\"text-align: right;\">\n",
              "      <th></th>\n",
              "      <th>names</th>\n",
              "      <th>Img</th>\n",
              "      <th>R</th>\n",
              "      <th>G</th>\n",
              "      <th>B</th>\n",
              "      <th>text color</th>\n",
              "      <th>로고 유형</th>\n",
              "      <th>비고</th>\n",
              "      <th>color_1</th>\n",
              "      <th>color_2</th>\n",
              "      <th>color_3</th>\n",
              "      <th>color_3.1</th>\n",
              "      <th>Unnamed: 12</th>\n",
              "      <th>Unnamed: 13</th>\n",
              "    </tr>\n",
              "  </thead>\n",
              "  <tbody>\n",
              "    <tr>\n",
              "      <th>0</th>\n",
              "      <td>3M</td>\n",
              "      <td>https://www.interbrand.com/assets/00000001482.png</td>\n",
              "      <td>237</td>\n",
              "      <td>32</td>\n",
              "      <td>35</td>\n",
              "      <td>매치</td>\n",
              "      <td>1.0</td>\n",
              "      <td>NaN</td>\n",
              "      <td>237/32/35</td>\n",
              "      <td>NaN</td>\n",
              "      <td>NaN</td>\n",
              "      <td>NaN</td>\n",
              "      <td>NaN</td>\n",
              "      <td>NaN</td>\n",
              "    </tr>\n",
              "    <tr>\n",
              "      <th>1</th>\n",
              "      <td>Absolut</td>\n",
              "      <td>https://www.interbrand.com/assets/00000000005.png</td>\n",
              "      <td>14</td>\n",
              "      <td>80</td>\n",
              "      <td>157</td>\n",
              "      <td>매치</td>\n",
              "      <td>1.0</td>\n",
              "      <td>NaN</td>\n",
              "      <td>14/80/157</td>\n",
              "      <td>NaN</td>\n",
              "      <td>NaN</td>\n",
              "      <td>NaN</td>\n",
              "      <td>NaN</td>\n",
              "      <td>NaN</td>\n",
              "    </tr>\n",
              "    <tr>\n",
              "      <th>2</th>\n",
              "      <td>Accenture</td>\n",
              "      <td>https://www.interbrand.com/assets/00000001483.png</td>\n",
              "      <td>0</td>\n",
              "      <td>0</td>\n",
              "      <td>0</td>\n",
              "      <td>매치</td>\n",
              "      <td>4.0</td>\n",
              "      <td>다색</td>\n",
              "      <td>0/0/0</td>\n",
              "      <td>189/0/254</td>\n",
              "      <td>NaN</td>\n",
              "      <td>NaN</td>\n",
              "      <td>NaN</td>\n",
              "      <td>NaN</td>\n",
              "    </tr>\n",
              "    <tr>\n",
              "      <th>3</th>\n",
              "      <td>adidas</td>\n",
              "      <td>https://www.interbrand.com/assets/00000001484.png</td>\n",
              "      <td>0</td>\n",
              "      <td>0</td>\n",
              "      <td>0</td>\n",
              "      <td>매치</td>\n",
              "      <td>4.0</td>\n",
              "      <td>NaN</td>\n",
              "      <td>0/0/0</td>\n",
              "      <td>NaN</td>\n",
              "      <td>NaN</td>\n",
              "      <td>NaN</td>\n",
              "      <td>NaN</td>\n",
              "      <td>NaN</td>\n",
              "    </tr>\n",
              "    <tr>\n",
              "      <th>4</th>\n",
              "      <td>Adobe</td>\n",
              "      <td>https://www.interbrand.com/assets/00000001485.png</td>\n",
              "      <td>255</td>\n",
              "      <td>0</td>\n",
              "      <td>0</td>\n",
              "      <td>무채색</td>\n",
              "      <td>4.0</td>\n",
              "      <td>다색</td>\n",
              "      <td>254/0/0</td>\n",
              "      <td>0/0/0</td>\n",
              "      <td>NaN</td>\n",
              "      <td>NaN</td>\n",
              "      <td>NaN</td>\n",
              "      <td>NaN</td>\n",
              "    </tr>\n",
              "  </tbody>\n",
              "</table>\n",
              "</div>"
            ],
            "text/plain": [
              "       names  ... Unnamed: 13\n",
              "0         3M  ...         NaN\n",
              "1    Absolut  ...         NaN\n",
              "2  Accenture  ...         NaN\n",
              "3     adidas  ...         NaN\n",
              "4      Adobe  ...         NaN\n",
              "\n",
              "[5 rows x 14 columns]"
            ]
          },
          "metadata": {
            "tags": []
          },
          "execution_count": 35
        }
      ]
    },
    {
      "cell_type": "code",
      "metadata": {
        "id": "yJcBgXe799DC"
      },
      "source": [
        "import cv2\n",
        "from google.colab.patches import cv2_imshow\n",
        "%matplotlib inline\n",
        "from matplotlib import pyplot as plt\n",
        "import time"
      ],
      "execution_count": null,
      "outputs": []
    },
    {
      "cell_type": "code",
      "metadata": {
        "id": "S0Q3V6aq-XAW",
        "outputId": "0a391fc0-15f7-4226-b43b-b44b16e74351",
        "colab": {
          "base_uri": "https://localhost:8080/",
          "height": 1000
        }
      },
      "source": [
        "for i in range(241):\n",
        "  try:\n",
        "    image=cv2.imread('/content/drive/My Drive/컬러 마케팅/2. 데이터/interbrand/interbrand_logo(index)/'+str(i)+'.'+str(df['names'][i])+'.png')\n",
        "    cv2_imshow(image)\n",
        "    print(data['color'][i])\n",
        "    time.sleep(1)\n",
        "  except:\n",
        "    print(df['names'][i],'error')\n",
        "  "
      ],
      "execution_count": null,
      "outputs": []
    },
    {
      "cell_type": "code",
      "metadata": {
        "id": "shnVGbZUMvuh"
      },
      "source": [
        ""
      ],
      "execution_count": null,
      "outputs": []
    }
  ]
}