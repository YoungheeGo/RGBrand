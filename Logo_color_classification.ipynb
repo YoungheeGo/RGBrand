{
  "nbformat": 4,
  "nbformat_minor": 0,
  "metadata": {
    "kernelspec": {
      "display_name": "Python 3",
      "language": "python",
      "name": "python3"
    },
    "language_info": {
      "codemirror_mode": {
        "name": "ipython",
        "version": 3
      },
      "file_extension": ".py",
      "mimetype": "text/x-python",
      "name": "python",
      "nbconvert_exporter": "python",
      "pygments_lexer": "ipython3",
      "version": "3.7.3"
    },
    "colab": {
      "name": "로고 색 분류.ipynb",
      "provenance": [],
      "collapsed_sections": [],
      "include_colab_link": true
    }
  },
  "cells": [
    {
      "cell_type": "markdown",
      "metadata": {
        "id": "view-in-github",
        "colab_type": "text"
      },
      "source": [
        "<a href=\"https://colab.research.google.com/github/GGoYoungHee/RGBrand/blob/main/Logo_color_classification.ipynb\" target=\"_parent\"><img src=\"https://colab.research.google.com/assets/colab-badge.svg\" alt=\"Open In Colab\"/></a>"
      ]
    },
    {
      "cell_type": "code",
      "metadata": {
        "id": "iwmHDU3RGIun",
        "outputId": "9c6b8da6-35b3-45d1-aeea-5f602409da93",
        "colab": {
          "base_uri": "https://localhost:8080/",
          "height": 52
        }
      },
      "source": [
        "pip install opencv-python"
      ],
      "execution_count": null,
      "outputs": [
        {
          "output_type": "stream",
          "text": [
            "Requirement already satisfied: opencv-python in /usr/local/lib/python3.6/dist-packages (4.1.2.30)\n",
            "Requirement already satisfied: numpy>=1.11.3 in /usr/local/lib/python3.6/dist-packages (from opencv-python) (1.18.2)\n"
          ],
          "name": "stdout"
        }
      ]
    },
    {
      "cell_type": "code",
      "metadata": {
        "id": "hkiMFQqrGsQm",
        "outputId": "632a6fcb-72b6-4a19-f443-017f1d5ecf70",
        "colab": {
          "base_uri": "https://localhost:8080/",
          "height": 35
        }
      },
      "source": [
        "from google.colab import drive\n",
        "drive.mount('/content/drive')"
      ],
      "execution_count": null,
      "outputs": [
        {
          "output_type": "stream",
          "text": [
            "Drive already mounted at /content/drive; to attempt to forcibly remount, call drive.mount(\"/content/drive\", force_remount=True).\n"
          ],
          "name": "stdout"
        }
      ]
    },
    {
      "cell_type": "code",
      "metadata": {
        "id": "IhB-f3F2GIus"
      },
      "source": [
        "import numpy as np\n",
        "import cv2\n",
        "from sklearn.cluster import KMeans\n",
        "import matplotlib.pyplot as plt\n",
        "import pandas as pd"
      ],
      "execution_count": null,
      "outputs": []
    },
    {
      "cell_type": "code",
      "metadata": {
        "id": "1pUBAUwxHjEZ",
        "outputId": "6c42ee1e-ea2a-4453-a98c-7b7e00162cbe",
        "colab": {
          "base_uri": "https://localhost:8080/",
          "height": 251
        }
      },
      "source": [
        "data=pd.read_csv('/content/drive/My Drive/Colab Notebooks/보아즈/시각화코드_adv/itaone_96.csv',encoding='cp949')\n",
        "data.head()"
      ],
      "execution_count": null,
      "outputs": [
        {
          "output_type": "execute_result",
          "data": {
            "text/html": [
              "<div>\n",
              "<style scoped>\n",
              "    .dataframe tbody tr th:only-of-type {\n",
              "        vertical-align: middle;\n",
              "    }\n",
              "\n",
              "    .dataframe tbody tr th {\n",
              "        vertical-align: top;\n",
              "    }\n",
              "\n",
              "    .dataframe thead th {\n",
              "        text-align: right;\n",
              "    }\n",
              "</style>\n",
              "<table border=\"1\" class=\"dataframe\">\n",
              "  <thead>\n",
              "    <tr style=\"text-align: right;\">\n",
              "      <th></th>\n",
              "      <th>names</th>\n",
              "      <th>url</th>\n",
              "      <th>R</th>\n",
              "      <th>G</th>\n",
              "      <th>B</th>\n",
              "      <th>text color</th>\n",
              "      <th>로고 유형</th>\n",
              "      <th>비고</th>\n",
              "    </tr>\n",
              "  </thead>\n",
              "  <tbody>\n",
              "    <tr>\n",
              "      <th>0</th>\n",
              "      <td>Colgate</td>\n",
              "      <td>https://www.interbrand.com/assets/00000001501.png</td>\n",
              "      <td>235</td>\n",
              "      <td>26</td>\n",
              "      <td>34</td>\n",
              "      <td>무채색</td>\n",
              "      <td>5</td>\n",
              "      <td>NaN</td>\n",
              "    </tr>\n",
              "    <tr>\n",
              "      <th>1</th>\n",
              "      <td>Compaq</td>\n",
              "      <td>https://www.interbrand.com/assets/00000000046.png</td>\n",
              "      <td>231</td>\n",
              "      <td>33</td>\n",
              "      <td>47</td>\n",
              "      <td>매치</td>\n",
              "      <td>1</td>\n",
              "      <td>NaN</td>\n",
              "    </tr>\n",
              "    <tr>\n",
              "      <th>2</th>\n",
              "      <td>Corona</td>\n",
              "      <td>https://www.interbrand.com/assets/00000001502.png</td>\n",
              "      <td>0</td>\n",
              "      <td>87</td>\n",
              "      <td>137</td>\n",
              "      <td>매치하지않음</td>\n",
              "      <td>4</td>\n",
              "      <td>다색</td>\n",
              "    </tr>\n",
              "    <tr>\n",
              "      <th>3</th>\n",
              "      <td>Coway</td>\n",
              "      <td>https://www.interbrand.com/assets/00000001685.png</td>\n",
              "      <td>6</td>\n",
              "      <td>167</td>\n",
              "      <td>226</td>\n",
              "      <td>매치</td>\n",
              "      <td>1</td>\n",
              "      <td>NaN</td>\n",
              "    </tr>\n",
              "    <tr>\n",
              "      <th>4</th>\n",
              "      <td>Credit Suisse</td>\n",
              "      <td>https://www.interbrand.com/assets/00000000048.png</td>\n",
              "      <td>0</td>\n",
              "      <td>53</td>\n",
              "      <td>95</td>\n",
              "      <td>매치</td>\n",
              "      <td>4</td>\n",
              "      <td>그라데이션</td>\n",
              "    </tr>\n",
              "  </tbody>\n",
              "</table>\n",
              "</div>"
            ],
            "text/plain": [
              "           names  ...     비고\n",
              "0        Colgate  ...    NaN\n",
              "1         Compaq  ...    NaN\n",
              "2         Corona  ...     다색\n",
              "3          Coway  ...    NaN\n",
              "4  Credit Suisse  ...  그라데이션\n",
              "\n",
              "[5 rows x 8 columns]"
            ]
          },
          "metadata": {
            "tags": []
          },
          "execution_count": 18
        }
      ]
    },
    {
      "cell_type": "code",
      "metadata": {
        "id": "d5GsGsK4IKzl"
      },
      "source": [
        "#data['color1']=np.nan\n",
        "#data['color2']=np.nan\n",
        "#data['color3']=np.nan\n",
        "#data['color4']=np.nan\n",
        "#data['color5']=np.nan\n",
        "del data['color1']\n",
        "del data['color2']\n",
        "del data['color3']\n",
        "del data['color4']\n",
        "del data['color5']"
      ],
      "execution_count": null,
      "outputs": []
    },
    {
      "cell_type": "code",
      "metadata": {
        "id": "4qq3GwksIOFZ",
        "outputId": "c8699b1c-cca4-4fc9-e215-cbde55ad6128",
        "colab": {
          "base_uri": "https://localhost:8080/",
          "height": 251
        }
      },
      "source": [
        "data.head()"
      ],
      "execution_count": null,
      "outputs": [
        {
          "output_type": "execute_result",
          "data": {
            "text/html": [
              "<div>\n",
              "<style scoped>\n",
              "    .dataframe tbody tr th:only-of-type {\n",
              "        vertical-align: middle;\n",
              "    }\n",
              "\n",
              "    .dataframe tbody tr th {\n",
              "        vertical-align: top;\n",
              "    }\n",
              "\n",
              "    .dataframe thead th {\n",
              "        text-align: right;\n",
              "    }\n",
              "</style>\n",
              "<table border=\"1\" class=\"dataframe\">\n",
              "  <thead>\n",
              "    <tr style=\"text-align: right;\">\n",
              "      <th></th>\n",
              "      <th>names</th>\n",
              "      <th>url</th>\n",
              "      <th>R</th>\n",
              "      <th>G</th>\n",
              "      <th>B</th>\n",
              "      <th>text color</th>\n",
              "      <th>로고 유형</th>\n",
              "      <th>비고</th>\n",
              "    </tr>\n",
              "  </thead>\n",
              "  <tbody>\n",
              "    <tr>\n",
              "      <th>0</th>\n",
              "      <td>Colgate</td>\n",
              "      <td>https://www.interbrand.com/assets/00000001501.png</td>\n",
              "      <td>235</td>\n",
              "      <td>26</td>\n",
              "      <td>34</td>\n",
              "      <td>무채색</td>\n",
              "      <td>5</td>\n",
              "      <td>NaN</td>\n",
              "    </tr>\n",
              "    <tr>\n",
              "      <th>1</th>\n",
              "      <td>Compaq</td>\n",
              "      <td>https://www.interbrand.com/assets/00000000046.png</td>\n",
              "      <td>231</td>\n",
              "      <td>33</td>\n",
              "      <td>47</td>\n",
              "      <td>매치</td>\n",
              "      <td>1</td>\n",
              "      <td>NaN</td>\n",
              "    </tr>\n",
              "    <tr>\n",
              "      <th>2</th>\n",
              "      <td>Corona</td>\n",
              "      <td>https://www.interbrand.com/assets/00000001502.png</td>\n",
              "      <td>0</td>\n",
              "      <td>87</td>\n",
              "      <td>137</td>\n",
              "      <td>매치하지않음</td>\n",
              "      <td>4</td>\n",
              "      <td>다색</td>\n",
              "    </tr>\n",
              "    <tr>\n",
              "      <th>3</th>\n",
              "      <td>Coway</td>\n",
              "      <td>https://www.interbrand.com/assets/00000001685.png</td>\n",
              "      <td>6</td>\n",
              "      <td>167</td>\n",
              "      <td>226</td>\n",
              "      <td>매치</td>\n",
              "      <td>1</td>\n",
              "      <td>NaN</td>\n",
              "    </tr>\n",
              "    <tr>\n",
              "      <th>4</th>\n",
              "      <td>Credit Suisse</td>\n",
              "      <td>https://www.interbrand.com/assets/00000000048.png</td>\n",
              "      <td>0</td>\n",
              "      <td>53</td>\n",
              "      <td>95</td>\n",
              "      <td>매치</td>\n",
              "      <td>4</td>\n",
              "      <td>그라데이션</td>\n",
              "    </tr>\n",
              "  </tbody>\n",
              "</table>\n",
              "</div>"
            ],
            "text/plain": [
              "           names  ...     비고\n",
              "0        Colgate  ...    NaN\n",
              "1         Compaq  ...    NaN\n",
              "2         Corona  ...     다색\n",
              "3          Coway  ...    NaN\n",
              "4  Credit Suisse  ...  그라데이션\n",
              "\n",
              "[5 rows x 8 columns]"
            ]
          },
          "metadata": {
            "tags": []
          },
          "execution_count": 105
        }
      ]
    },
    {
      "cell_type": "code",
      "metadata": {
        "id": "Hc63DKEcQWhT",
        "outputId": "051c053e-9026-44cf-ea0e-fe7f0431a11b",
        "colab": {
          "base_uri": "https://localhost:8080/",
          "height": 35
        }
      },
      "source": [
        "data['url'][9]"
      ],
      "execution_count": null,
      "outputs": [
        {
          "output_type": "execute_result",
          "data": {
            "text/plain": [
              "'https://www.interbrand.com/assets/00000001504.png'"
            ]
          },
          "metadata": {
            "tags": []
          },
          "execution_count": 53
        }
      ]
    },
    {
      "cell_type": "code",
      "metadata": {
        "id": "t_HuSw32GIuz"
      },
      "source": [
        "image = cv2.imread('/content/drive/My Drive/Colab Notebooks/보아즈/시각화코드_adv/인터브랜드 로고/9.png')"
      ],
      "execution_count": null,
      "outputs": []
    },
    {
      "cell_type": "code",
      "metadata": {
        "id": "j--7i95qSfZN"
      },
      "source": [
        "#/content/drive/My Drive/컬러 마케팅/2. 데이터/itatwo_pic"
      ],
      "execution_count": null,
      "outputs": []
    },
    {
      "cell_type": "code",
      "metadata": {
        "id": "pjHnjLkDGIu5"
      },
      "source": [
        "from google.colab.patches import cv2_imshow\n",
        "%matplotlib inline\n",
        "from matplotlib import pyplot as plt"
      ],
      "execution_count": null,
      "outputs": []
    },
    {
      "cell_type": "code",
      "metadata": {
        "id": "uw0KbM9qMrvs",
        "outputId": "9d4090fd-8600-47ec-b1b4-40dc710df2ca",
        "colab": {
          "base_uri": "https://localhost:8080/",
          "height": 417
        }
      },
      "source": [
        "cv2_imshow(image)"
      ],
      "execution_count": null,
      "outputs": [
        {
          "output_type": "display_data",
          "data": {
            "image/png": "[encoded data removed]",
            "text/plain": [
              "<PIL.Image.Image image mode=RGB size=800x400 at 0x7F7A1FB32438>"
            ]
          },
          "metadata": {
            "tags": []
          }
        }
      ]
    },
    {
      "cell_type": "code",
      "metadata": {
        "id": "kZWIRUInGIvA"
      },
      "source": [
        "image = cv2.cvtColor(image, cv2.COLOR_BGR2RGB)"
      ],
      "execution_count": null,
      "outputs": []
    },
    {
      "cell_type": "code",
      "metadata": {
        "id": "DyEDKUlZGIvD",
        "outputId": "c2b33965-8939-408f-ec3c-5bad501a13bf",
        "colab": {
          "base_uri": "https://localhost:8080/",
          "height": 35
        }
      },
      "source": [
        "image = image.reshape((image.shape[0] * image.shape[1], 3)) # height, width 통합\n",
        "print(image.shape)"
      ],
      "execution_count": null,
      "outputs": [
        {
          "output_type": "stream",
          "text": [
            "(320000, 3)\n"
          ],
          "name": "stdout"
        }
      ]
    },
    {
      "cell_type": "code",
      "metadata": {
        "id": "9Fgq4zd_GIvI",
        "outputId": "5eee4c99-e1f6-452a-b95f-963e16d22fe2",
        "colab": {
          "base_uri": "https://localhost:8080/",
          "height": 70
        }
      },
      "source": [
        "k = 3 # k=로고 색 개수+1\n",
        "clt = KMeans(n_clusters = k)\n",
        "clt.fit(image)"
      ],
      "execution_count": null,
      "outputs": [
        {
          "output_type": "execute_result",
          "data": {
            "text/plain": [
              "KMeans(algorithm='auto', copy_x=True, init='k-means++', max_iter=300,\n",
              "       n_clusters=3, n_init=10, n_jobs=None, precompute_distances='auto',\n",
              "       random_state=None, tol=0.0001, verbose=0)"
            ]
          },
          "metadata": {
            "tags": []
          },
          "execution_count": 87
        }
      ]
    },
    {
      "cell_type": "code",
      "metadata": {
        "id": "ErKy_HLvGIvO",
        "outputId": "f775a9cc-383b-421c-80d9-6342b143a884",
        "colab": {
          "base_uri": "https://localhost:8080/",
          "height": 70
        }
      },
      "source": [
        "for center in clt.cluster_centers_:\n",
        "    print(center)\n",
        "\n",
        "#[254.96637654 254.59229446 254.60677321]\n",
        "#[236.02081207  27.31221476  35.24398121]"
      ],
      "execution_count": null,
      "outputs": [
        {
          "output_type": "stream",
          "text": [
            "[255. 255. 255.]\n",
            "[128.01969295 128.00153066 127.98796034]\n",
            "[1.08975600e-01 1.18001888e+02 2.05987558e+02]\n"
          ],
          "name": "stdout"
        }
      ]
    },
    {
      "cell_type": "code",
      "metadata": {
        "id": "1Mvxc1M8N1T5",
        "outputId": "5c19895f-5f2d-4e17-a213-bb1014bab3e5",
        "colab": {
          "base_uri": "https://localhost:8080/",
          "height": 35
        }
      },
      "source": [
        "clt.cluster_centers_[-1][-1]"
      ],
      "execution_count": null,
      "outputs": [
        {
          "output_type": "execute_result",
          "data": {
            "text/plain": [
              "205.98755809450685"
            ]
          },
          "metadata": {
            "tags": []
          },
          "execution_count": 89
        }
      ]
    },
    {
      "cell_type": "code",
      "metadata": {
        "id": "TN5KWpk0GIvZ",
        "outputId": "d8f7b501-9693-48a5-8bf2-d7c270c1f927",
        "colab": {
          "base_uri": "https://localhost:8080/",
          "height": 35
        }
      },
      "source": [
        "def centroid_histogram(clt):\n",
        "    # grab the number of different clusters and create a histogram\n",
        "    # based on the number of pixels assigned to each cluster\n",
        "    numLabels = np.arange(0, len(np.unique(clt.labels_)) + 1)\n",
        "    (hist, _) = np.histogram(clt.labels_, bins=numLabels)\n",
        "\n",
        "    # normalize the histogram, such that it sums to one\n",
        "    hist = hist.astype(\"float\")\n",
        "    hist /= hist.sum()\n",
        "\n",
        "    # return the histogram\n",
        "    return hist\n",
        "\n",
        "\n",
        "hist = centroid_histogram(clt)\n",
        "#hist1=hist[1:]\n",
        "print(hist)"
      ],
      "execution_count": null,
      "outputs": [
        {
          "output_type": "stream",
          "text": [
            "[0.7986625 0.1367875 0.06455  ]\n"
          ],
          "name": "stdout"
        }
      ]
    },
    {
      "cell_type": "code",
      "metadata": {
        "id": "sIaDvHMXGIve",
        "outputId": "6246cfb4-c3f5-402d-a7e4-6d939c94ee5b",
        "colab": {
          "base_uri": "https://localhost:8080/",
          "height": 35
        }
      },
      "source": [
        "print(hist)"
      ],
      "execution_count": null,
      "outputs": [
        {
          "output_type": "stream",
          "text": [
            "[0.7986625 0.1367875 0.06455  ]\n"
          ],
          "name": "stdout"
        }
      ]
    },
    {
      "cell_type": "code",
      "metadata": {
        "id": "9xtyiGQZU0Ds",
        "outputId": "3339533a-a8b4-453a-8394-e41c8074c2fb",
        "colab": {
          "base_uri": "https://localhost:8080/",
          "height": 124
        }
      },
      "source": [
        "for i,j in enumerate(hist):\n",
        "  print('인덱스',i)\n",
        "  print('값',j)"
      ],
      "execution_count": null,
      "outputs": [
        {
          "output_type": "stream",
          "text": [
            "인덱스 0\n",
            "값 0.7986625\n",
            "인덱스 1\n",
            "값 0.1367875\n",
            "인덱스 2\n",
            "값 0.06455\n"
          ],
          "name": "stdout"
        }
      ]
    },
    {
      "cell_type": "code",
      "metadata": {
        "id": "aYKseX-cGIvm"
      },
      "source": [
        "#per=hist1[0]+hist1[1]+hist1[2]+hist1[3]\n",
        "#per"
      ],
      "execution_count": null,
      "outputs": []
    },
    {
      "cell_type": "code",
      "metadata": {
        "id": "TOjaFkpOGIvv",
        "outputId": "381bb48c-ea02-465a-a467-4e7b997ffd53"
      },
      "source": [
        "#hist2=hist1/per\n",
        "#hist2"
      ],
      "execution_count": null,
      "outputs": [
        {
          "output_type": "execute_result",
          "data": {
            "text/plain": [
              "array([0.07512521, 0.29908822, 0.47553615, 0.15025042])"
            ]
          },
          "metadata": {
            "tags": []
          },
          "execution_count": 190
        }
      ]
    },
    {
      "cell_type": "code",
      "metadata": {
        "id": "PBNtvAAFGIv3",
        "outputId": "a3fb2507-db3e-4c0d-f62d-e04080cf439f",
        "colab": {
          "base_uri": "https://localhost:8080/",
          "height": 87
        }
      },
      "source": [
        "'''\n",
        "def plot_colors(hist, centroids):\n",
        "    # initialize the bar chart representing the relative frequency\n",
        "    # of each of the colors\n",
        "    bar = np.zeros((50, 300, 3), dtype=\"uint8\")\n",
        "    startX = 0\n",
        "\n",
        "    # loop over the percentage of each cluster and the color of\n",
        "    # each cluster\n",
        "    for (percent, color) in zip(hist, centroids):\n",
        "        # plot the relative percentage of each cluster\n",
        "        endX = startX + (percent * 300)\n",
        "        cv2.rectangle(bar, (int(startX), 0), (int(endX), 50),\n",
        "                      color.astype(\"uint8\").tolist(), -1)\n",
        "        startX = endX\n",
        "\n",
        "    # return the bar chart\n",
        "    return bar\n",
        "\n",
        "bar = plot_colors(hist, clt.cluster_centers_[1:])\n",
        "\n",
        "\n",
        "# show our color bart\n",
        "plt.figure()\n",
        "plt.axis(\"off\")\n",
        "plt.imshow(bar)\n",
        "plt.show()\n",
        "'''"
      ],
      "execution_count": null,
      "outputs": [
        {
          "output_type": "display_data",
          "data": {
            "image/png": "[encoded data removed]",
            "text/plain": [
              "<Figure size 432x288 with 1 Axes>"
            ]
          },
          "metadata": {
            "tags": []
          }
        }
      ]
    },
    {
      "cell_type": "code",
      "metadata": {
        "id": "m1hMkCF3GIv8",
        "outputId": "bbfd1b89-30b8-472f-dc77-8b7607bc48dc",
        "colab": {
          "base_uri": "https://localhost:8080/",
          "height": 87
        }
      },
      "source": [
        "def plot_colors(hist, centroids):\n",
        "    # initialize the bar chart representing the relative frequency\n",
        "    # of each of the colors\n",
        "    bar = np.zeros((50, 300, 3), dtype=\"uint8\")\n",
        "    startX = 0\n",
        "\n",
        "    # loop over the percentage of each cluster and the color of\n",
        "    # each cluster\n",
        "    for (percent, color) in zip(hist, centroids):\n",
        "        # plot the relative percentage of each cluster\n",
        "        endX = startX + (percent * 300)\n",
        "        cv2.rectangle(bar, (int(startX), 0), (int(endX), 50),\n",
        "                      color.astype(\"uint8\").tolist(), -1)\n",
        "        startX = endX\n",
        "\n",
        "    # return the bar chart\n",
        "    return bar\n",
        "\n",
        "bar = plot_colors(hist, clt.cluster_centers_)\n",
        "\n",
        "\n",
        "# show our color bart\n",
        "plt.figure()\n",
        "plt.axis(\"off\")\n",
        "plt.imshow(bar)\n",
        "plt.show()"
      ],
      "execution_count": null,
      "outputs": [
        {
          "output_type": "display_data",
          "data": {
            "image/png": "[encoded data removed]",
            "text/plain": [
              "<Figure size 432x288 with 1 Axes>"
            ]
          },
          "metadata": {
            "tags": []
          }
        }
      ]
    },
    {
      "cell_type": "code",
      "metadata": {
        "id": "EdDJOvdwWSSK",
        "outputId": "b332b431-1254-414b-ca3a-a12ef86224c3",
        "colab": {
          "base_uri": "https://localhost:8080/",
          "height": 70
        }
      },
      "source": [
        "clt.cluster_centers_"
      ],
      "execution_count": null,
      "outputs": [
        {
          "output_type": "execute_result",
          "data": {
            "text/plain": [
              "array([[2.55000000e+02, 2.55000000e+02, 2.55000000e+02],\n",
              "       [1.28019693e+02, 1.28001531e+02, 1.27987960e+02],\n",
              "       [1.08975600e-01, 1.18001888e+02, 2.05987558e+02]])"
            ]
          },
          "metadata": {
            "tags": []
          },
          "execution_count": 96
        }
      ]
    },
    {
      "cell_type": "code",
      "metadata": {
        "id": "VDf9hrjLW5SW",
        "outputId": "00ab664f-ec2b-4f8c-d1c6-d19bba49d0b0",
        "colab": {
          "base_uri": "https://localhost:8080/",
          "height": 35
        }
      },
      "source": [
        "clt.cluster_centers_[1][0]"
      ],
      "execution_count": null,
      "outputs": [
        {
          "output_type": "execute_result",
          "data": {
            "text/plain": [
              "128.01969295432235"
            ]
          },
          "metadata": {
            "tags": []
          },
          "execution_count": 98
        }
      ]
    },
    {
      "cell_type": "code",
      "metadata": {
        "id": "epyhUTt1XvWt",
        "outputId": "61e9d8b9-9879-4080-bbcc-ec1d4dbb9989",
        "colab": {
          "base_uri": "https://localhost:8080/",
          "height": 251
        }
      },
      "source": [
        "data.head()"
      ],
      "execution_count": null,
      "outputs": [
        {
          "output_type": "execute_result",
          "data": {
            "text/html": [
              "<div>\n",
              "<style scoped>\n",
              "    .dataframe tbody tr th:only-of-type {\n",
              "        vertical-align: middle;\n",
              "    }\n",
              "\n",
              "    .dataframe tbody tr th {\n",
              "        vertical-align: top;\n",
              "    }\n",
              "\n",
              "    .dataframe thead th {\n",
              "        text-align: right;\n",
              "    }\n",
              "</style>\n",
              "<table border=\"1\" class=\"dataframe\">\n",
              "  <thead>\n",
              "    <tr style=\"text-align: right;\">\n",
              "      <th></th>\n",
              "      <th>names</th>\n",
              "      <th>url</th>\n",
              "      <th>R</th>\n",
              "      <th>G</th>\n",
              "      <th>B</th>\n",
              "      <th>text color</th>\n",
              "      <th>로고 유형</th>\n",
              "      <th>비고</th>\n",
              "    </tr>\n",
              "  </thead>\n",
              "  <tbody>\n",
              "    <tr>\n",
              "      <th>0</th>\n",
              "      <td>Colgate</td>\n",
              "      <td>https://www.interbrand.com/assets/00000001501.png</td>\n",
              "      <td>235</td>\n",
              "      <td>26</td>\n",
              "      <td>34</td>\n",
              "      <td>무채색</td>\n",
              "      <td>5</td>\n",
              "      <td>NaN</td>\n",
              "    </tr>\n",
              "    <tr>\n",
              "      <th>1</th>\n",
              "      <td>Compaq</td>\n",
              "      <td>https://www.interbrand.com/assets/00000000046.png</td>\n",
              "      <td>231</td>\n",
              "      <td>33</td>\n",
              "      <td>47</td>\n",
              "      <td>매치</td>\n",
              "      <td>1</td>\n",
              "      <td>NaN</td>\n",
              "    </tr>\n",
              "    <tr>\n",
              "      <th>2</th>\n",
              "      <td>Corona</td>\n",
              "      <td>https://www.interbrand.com/assets/00000001502.png</td>\n",
              "      <td>0</td>\n",
              "      <td>87</td>\n",
              "      <td>137</td>\n",
              "      <td>매치하지않음</td>\n",
              "      <td>4</td>\n",
              "      <td>다색</td>\n",
              "    </tr>\n",
              "    <tr>\n",
              "      <th>3</th>\n",
              "      <td>Coway</td>\n",
              "      <td>https://www.interbrand.com/assets/00000001685.png</td>\n",
              "      <td>6</td>\n",
              "      <td>167</td>\n",
              "      <td>226</td>\n",
              "      <td>매치</td>\n",
              "      <td>1</td>\n",
              "      <td>NaN</td>\n",
              "    </tr>\n",
              "    <tr>\n",
              "      <th>4</th>\n",
              "      <td>Credit Suisse</td>\n",
              "      <td>https://www.interbrand.com/assets/00000000048.png</td>\n",
              "      <td>0</td>\n",
              "      <td>53</td>\n",
              "      <td>95</td>\n",
              "      <td>매치</td>\n",
              "      <td>4</td>\n",
              "      <td>그라데이션</td>\n",
              "    </tr>\n",
              "  </tbody>\n",
              "</table>\n",
              "</div>"
            ],
            "text/plain": [
              "           names  ...     비고\n",
              "0        Colgate  ...    NaN\n",
              "1         Compaq  ...    NaN\n",
              "2         Corona  ...     다색\n",
              "3          Coway  ...    NaN\n",
              "4  Credit Suisse  ...  그라데이션\n",
              "\n",
              "[5 rows x 8 columns]"
            ]
          },
          "metadata": {
            "tags": []
          },
          "execution_count": 106
        }
      ]
    },
    {
      "cell_type": "code",
      "metadata": {
        "id": "2OLs1wMVYAQ5",
        "outputId": "d7e5c5de-4e40-4a62-cf17-93e1903fd132",
        "colab": {
          "base_uri": "https://localhost:8080/",
          "height": 259
        }
      },
      "source": [
        "R=[1,2,3,10,11]\n",
        "G=[4,5,6,30,52]\n",
        "B=[7,8,9,3,55]\n",
        "\n",
        "color=[]\n",
        "\n",
        "for i in range(5):\n",
        "  tmp=dict(R[i])"
      ],
      "execution_count": null,
      "outputs": [
        {
          "output_type": "error",
          "ename": "IndexError",
          "evalue": "ignored",
          "traceback": [
            "\u001b[0;31m---------------------------------------------------------------------------\u001b[0m",
            "\u001b[0;31mIndexError\u001b[0m                                Traceback (most recent call last)",
            "\u001b[0;32m<ipython-input-112-ea50eadac6db>\u001b[0m in \u001b[0;36m<module>\u001b[0;34m()\u001b[0m\n\u001b[1;32m      6\u001b[0m \u001b[0;34m\u001b[0m\u001b[0m\n\u001b[1;32m      7\u001b[0m \u001b[0;32mfor\u001b[0m \u001b[0mi\u001b[0m \u001b[0;32min\u001b[0m \u001b[0mrange\u001b[0m\u001b[0;34m(\u001b[0m\u001b[0;36m5\u001b[0m\u001b[0;34m)\u001b[0m\u001b[0;34m:\u001b[0m\u001b[0;34m\u001b[0m\u001b[0;34m\u001b[0m\u001b[0m\n\u001b[0;32m----> 8\u001b[0;31m   \u001b[0mcolor\u001b[0m\u001b[0;34m[\u001b[0m\u001b[0mi\u001b[0m\u001b[0;34m]\u001b[0m\u001b[0;34m=\u001b[0m\u001b[0mstr\u001b[0m\u001b[0;34m(\u001b[0m\u001b[0mR\u001b[0m\u001b[0;34m[\u001b[0m\u001b[0mi\u001b[0m\u001b[0;34m]\u001b[0m\u001b[0;34m)\u001b[0m\u001b[0;34m+\u001b[0m\u001b[0;34m'/'\u001b[0m\u001b[0;34m+\u001b[0m\u001b[0mstr\u001b[0m\u001b[0;34m(\u001b[0m\u001b[0mG\u001b[0m\u001b[0;34m[\u001b[0m\u001b[0mi\u001b[0m\u001b[0;34m]\u001b[0m\u001b[0;34m)\u001b[0m\u001b[0;34m+\u001b[0m\u001b[0;34m'/'\u001b[0m\u001b[0;34m+\u001b[0m\u001b[0mstr\u001b[0m\u001b[0;34m(\u001b[0m\u001b[0mB\u001b[0m\u001b[0;34m[\u001b[0m\u001b[0mi\u001b[0m\u001b[0;34m]\u001b[0m\u001b[0;34m)\u001b[0m\u001b[0;34m\u001b[0m\u001b[0;34m\u001b[0m\u001b[0m\n\u001b[0m\u001b[1;32m      9\u001b[0m \u001b[0;34m\u001b[0m\u001b[0m\n\u001b[1;32m     10\u001b[0m \u001b[0mprint\u001b[0m\u001b[0;34m(\u001b[0m\u001b[0mcolor\u001b[0m\u001b[0;34m)\u001b[0m\u001b[0;34m\u001b[0m\u001b[0;34m\u001b[0m\u001b[0m\n",
            "\u001b[0;31mIndexError\u001b[0m: list assignment index out of range"
          ]
        },
        {
          "output_type": "stream",
          "text": [
            "ERROR! Session/line number was not unique in database. History logging moved to new session 60\n"
          ],
          "name": "stdout"
        }
      ]
    },
    {
      "cell_type": "code",
      "metadata": {
        "id": "vWV43pDJaten",
        "outputId": "3e17e89d-dfe9-49c2-8ff1-bcdaadbeda73",
        "colab": {
          "base_uri": "https://localhost:8080/",
          "height": 35
        }
      },
      "source": [
        "R=[1,2,3,10,11]\n",
        "G=[4,5,6,30,52]\n",
        "B=[7,8,9,3,55]\n",
        "\n",
        "R[0]"
      ],
      "execution_count": null,
      "outputs": [
        {
          "output_type": "execute_result",
          "data": {
            "text/plain": [
              "1"
            ]
          },
          "metadata": {
            "tags": []
          },
          "execution_count": 115
        }
      ]
    },
    {
      "cell_type": "code",
      "metadata": {
        "id": "3qCNnXobGIwA",
        "outputId": "f9c4a1d1-b094-4ccf-bfa2-a27030839e69",
        "colab": {
          "base_uri": "https://localhost:8080/",
          "height": 1000
        }
      },
      "source": [
        "for i in range(10):\n",
        "  name=data['names'][i]\n",
        "  #print(name)\n",
        "  image = cv2.imread('/content/drive/My Drive/컬러 마케팅/2. 데이터/itatwo_pic/'+str(48+i)+'.'+str(name)+'.png')\n",
        "  cv2_imshow(image)\n",
        "  image = cv2.cvtColor(image, cv2.COLOR_BGR2RGB)\n",
        "  image = image.reshape((image.shape[0] * image.shape[1], 3))\n",
        "  k = int(input('로고 색 개수+1: ')) # k=로고 색 개수+1\n",
        "  clt = KMeans(n_clusters = k)\n",
        "  clt.fit(image)\n",
        "  \n",
        "  for center in clt.cluster_centers_:\n",
        "    print(center)\n",
        "  tmp=int(input('버려야할 RGB순서, 배경색: '))\n",
        "  hist = centroid_histogram(clt)\n",
        "  #print(hist)\n",
        "  for i,j in enumerate(hist):\n",
        "    if i==tmp:\n",
        "      pass\n",
        "    else:\n",
        "      R=[]\n",
        "      G=[]\n",
        "      B=[]\n",
        "      for _ in range(k-1):\n",
        "        R.append(clt.cluster_centers_[i][0])\n",
        "        G.append(clt.cluster_centers_[i][1])\n",
        "        B.append(clt.cluster_centers_[i][2])\n",
        "      #print('인덱스 값: ',i)\n",
        "      #print('퍼센트 값: ',j)\n",
        "  \n",
        "  for num,value in enumerate(R):\n",
        "    data['color']\n",
        "\n",
        "  "
      ],
      "execution_count": null,
      "outputs": [
        {
          "output_type": "display_data",
          "data": {
            "image/png": "[encoded data removed]",
            "text/plain": [
              "<PIL.Image.Image image mode=RGB size=800x400 at 0x7F7A1FB07F98>"
            ]
          },
          "metadata": {
            "tags": []
          }
        },
        {
          "output_type": "stream",
          "text": [
            "로고 색 개수+1: 2\n",
            "[236.02081207  27.31221476  35.24398121]\n",
            "[254.96637654 254.59229446 254.60677321]\n",
            "버려야할 RGB순서, 배경색: 1\n",
            "[236.02081207458042]\n",
            "[27.312214758763048]\n",
            "[35.24398120623616]\n"
          ],
          "name": "stdout"
        },
        {
          "output_type": "display_data",
          "data": {
            "image/png": "[encoded data removed]",
            "text/plain": [
              "<PIL.Image.Image image mode=RGB size=400x200 at 0x7F7A1FB07F98>"
            ]
          },
          "metadata": {
            "tags": []
          }
        },
        {
          "output_type": "stream",
          "text": [
            "로고 색 개수+1: 2\n",
            "[232.  34.  48.]\n",
            "[255. 255. 255.]\n",
            "버려야할 RGB순서, 배경색: 1\n",
            "[231.9999999999989]\n",
            "[33.99999999995791]\n",
            "[47.99999999993608]\n"
          ],
          "name": "stdout"
        },
        {
          "output_type": "display_data",
          "data": {
            "image/png": "[encoded data removed]",
            "text/plain": [
              "<PIL.Image.Image image mode=RGB size=800x400 at 0x7F7A1FB07FD0>"
            ]
          },
          "metadata": {
            "tags": []
          }
        },
        {
          "output_type": "stream",
          "text": [
            "로고 색 개수+1: 3\n",
            "[255. 255. 255.]\n",
            "[  0.18923373  86.98557032 137.0137008 ]\n",
            "[254.55295597 196.03242767  36.97122013]\n"
          ],
          "name": "stdout"
        },
        {
          "output_type": "error",
          "ename": "KeyboardInterrupt",
          "evalue": "ignored",
          "traceback": [
            "\u001b[0;31m---------------------------------------------------------------------------\u001b[0m",
            "\u001b[0;31mKeyboardInterrupt\u001b[0m                         Traceback (most recent call last)",
            "\u001b[0;32m/usr/local/lib/python3.6/dist-packages/ipykernel/kernelbase.py\u001b[0m in \u001b[0;36m_input_request\u001b[0;34m(self, prompt, ident, parent, password)\u001b[0m\n\u001b[1;32m    729\u001b[0m             \u001b[0;32mtry\u001b[0m\u001b[0;34m:\u001b[0m\u001b[0;34m\u001b[0m\u001b[0;34m\u001b[0m\u001b[0m\n\u001b[0;32m--> 730\u001b[0;31m                 \u001b[0mident\u001b[0m\u001b[0;34m,\u001b[0m \u001b[0mreply\u001b[0m \u001b[0;34m=\u001b[0m \u001b[0mself\u001b[0m\u001b[0;34m.\u001b[0m\u001b[0msession\u001b[0m\u001b[0;34m.\u001b[0m\u001b[0mrecv\u001b[0m\u001b[0;34m(\u001b[0m\u001b[0mself\u001b[0m\u001b[0;34m.\u001b[0m\u001b[0mstdin_socket\u001b[0m\u001b[0;34m,\u001b[0m \u001b[0;36m0\u001b[0m\u001b[0;34m)\u001b[0m\u001b[0;34m\u001b[0m\u001b[0;34m\u001b[0m\u001b[0m\n\u001b[0m\u001b[1;32m    731\u001b[0m             \u001b[0;32mexcept\u001b[0m \u001b[0mException\u001b[0m\u001b[0;34m:\u001b[0m\u001b[0;34m\u001b[0m\u001b[0;34m\u001b[0m\u001b[0m\n",
            "\u001b[0;32m/usr/local/lib/python3.6/dist-packages/jupyter_client/session.py\u001b[0m in \u001b[0;36mrecv\u001b[0;34m(self, socket, mode, content, copy)\u001b[0m\n\u001b[1;32m    802\u001b[0m         \u001b[0;32mtry\u001b[0m\u001b[0;34m:\u001b[0m\u001b[0;34m\u001b[0m\u001b[0;34m\u001b[0m\u001b[0m\n\u001b[0;32m--> 803\u001b[0;31m             \u001b[0mmsg_list\u001b[0m \u001b[0;34m=\u001b[0m \u001b[0msocket\u001b[0m\u001b[0;34m.\u001b[0m\u001b[0mrecv_multipart\u001b[0m\u001b[0;34m(\u001b[0m\u001b[0mmode\u001b[0m\u001b[0;34m,\u001b[0m \u001b[0mcopy\u001b[0m\u001b[0;34m=\u001b[0m\u001b[0mcopy\u001b[0m\u001b[0;34m)\u001b[0m\u001b[0;34m\u001b[0m\u001b[0;34m\u001b[0m\u001b[0m\n\u001b[0m\u001b[1;32m    804\u001b[0m         \u001b[0;32mexcept\u001b[0m \u001b[0mzmq\u001b[0m\u001b[0;34m.\u001b[0m\u001b[0mZMQError\u001b[0m \u001b[0;32mas\u001b[0m \u001b[0me\u001b[0m\u001b[0;34m:\u001b[0m\u001b[0;34m\u001b[0m\u001b[0;34m\u001b[0m\u001b[0m\n",
            "\u001b[0;32m/usr/local/lib/python3.6/dist-packages/zmq/sugar/socket.py\u001b[0m in \u001b[0;36mrecv_multipart\u001b[0;34m(self, flags, copy, track)\u001b[0m\n\u001b[1;32m    465\u001b[0m         \"\"\"\n\u001b[0;32m--> 466\u001b[0;31m         \u001b[0mparts\u001b[0m \u001b[0;34m=\u001b[0m \u001b[0;34m[\u001b[0m\u001b[0mself\u001b[0m\u001b[0;34m.\u001b[0m\u001b[0mrecv\u001b[0m\u001b[0;34m(\u001b[0m\u001b[0mflags\u001b[0m\u001b[0;34m,\u001b[0m \u001b[0mcopy\u001b[0m\u001b[0;34m=\u001b[0m\u001b[0mcopy\u001b[0m\u001b[0;34m,\u001b[0m \u001b[0mtrack\u001b[0m\u001b[0;34m=\u001b[0m\u001b[0mtrack\u001b[0m\u001b[0;34m)\u001b[0m\u001b[0;34m]\u001b[0m\u001b[0;34m\u001b[0m\u001b[0;34m\u001b[0m\u001b[0m\n\u001b[0m\u001b[1;32m    467\u001b[0m         \u001b[0;31m# have first part already, only loop while more to receive\u001b[0m\u001b[0;34m\u001b[0m\u001b[0;34m\u001b[0m\u001b[0;34m\u001b[0m\u001b[0m\n",
            "\u001b[0;32mzmq/backend/cython/socket.pyx\u001b[0m in \u001b[0;36mzmq.backend.cython.socket.Socket.recv\u001b[0;34m()\u001b[0m\n",
            "\u001b[0;32mzmq/backend/cython/socket.pyx\u001b[0m in \u001b[0;36mzmq.backend.cython.socket.Socket.recv\u001b[0;34m()\u001b[0m\n",
            "\u001b[0;32mzmq/backend/cython/socket.pyx\u001b[0m in \u001b[0;36mzmq.backend.cython.socket._recv_copy\u001b[0;34m()\u001b[0m\n",
            "\u001b[0;32m/usr/local/lib/python3.6/dist-packages/zmq/backend/cython/checkrc.pxd\u001b[0m in \u001b[0;36mzmq.backend.cython.checkrc._check_rc\u001b[0;34m()\u001b[0m\n",
            "\u001b[0;31mKeyboardInterrupt\u001b[0m: ",
            "\nDuring handling of the above exception, another exception occurred:\n",
            "\u001b[0;31mKeyboardInterrupt\u001b[0m                         Traceback (most recent call last)",
            "\u001b[0;32m<ipython-input-100-18ebcef7f9e0>\u001b[0m in \u001b[0;36m<module>\u001b[0;34m()\u001b[0m\n\u001b[1;32m     12\u001b[0m   \u001b[0;32mfor\u001b[0m \u001b[0mcenter\u001b[0m \u001b[0;32min\u001b[0m \u001b[0mclt\u001b[0m\u001b[0;34m.\u001b[0m\u001b[0mcluster_centers_\u001b[0m\u001b[0;34m:\u001b[0m\u001b[0;34m\u001b[0m\u001b[0;34m\u001b[0m\u001b[0m\n\u001b[1;32m     13\u001b[0m     \u001b[0mprint\u001b[0m\u001b[0;34m(\u001b[0m\u001b[0mcenter\u001b[0m\u001b[0;34m)\u001b[0m\u001b[0;34m\u001b[0m\u001b[0;34m\u001b[0m\u001b[0m\n\u001b[0;32m---> 14\u001b[0;31m   \u001b[0mtmp\u001b[0m\u001b[0;34m=\u001b[0m\u001b[0mint\u001b[0m\u001b[0;34m(\u001b[0m\u001b[0minput\u001b[0m\u001b[0;34m(\u001b[0m\u001b[0;34m'버려야할 RGB순서, 배경색: '\u001b[0m\u001b[0;34m)\u001b[0m\u001b[0;34m)\u001b[0m\u001b[0;34m\u001b[0m\u001b[0;34m\u001b[0m\u001b[0m\n\u001b[0m\u001b[1;32m     15\u001b[0m   \u001b[0mhist\u001b[0m \u001b[0;34m=\u001b[0m \u001b[0mcentroid_histogram\u001b[0m\u001b[0;34m(\u001b[0m\u001b[0mclt\u001b[0m\u001b[0;34m)\u001b[0m\u001b[0;34m\u001b[0m\u001b[0;34m\u001b[0m\u001b[0m\n\u001b[1;32m     16\u001b[0m   \u001b[0;31m#print(hist)\u001b[0m\u001b[0;34m\u001b[0m\u001b[0;34m\u001b[0m\u001b[0;34m\u001b[0m\u001b[0m\n",
            "\u001b[0;32m/usr/local/lib/python3.6/dist-packages/ipykernel/kernelbase.py\u001b[0m in \u001b[0;36mraw_input\u001b[0;34m(self, prompt)\u001b[0m\n\u001b[1;32m    703\u001b[0m             \u001b[0mself\u001b[0m\u001b[0;34m.\u001b[0m\u001b[0m_parent_ident\u001b[0m\u001b[0;34m,\u001b[0m\u001b[0;34m\u001b[0m\u001b[0;34m\u001b[0m\u001b[0m\n\u001b[1;32m    704\u001b[0m             \u001b[0mself\u001b[0m\u001b[0;34m.\u001b[0m\u001b[0m_parent_header\u001b[0m\u001b[0;34m,\u001b[0m\u001b[0;34m\u001b[0m\u001b[0;34m\u001b[0m\u001b[0m\n\u001b[0;32m--> 705\u001b[0;31m             \u001b[0mpassword\u001b[0m\u001b[0;34m=\u001b[0m\u001b[0;32mFalse\u001b[0m\u001b[0;34m,\u001b[0m\u001b[0;34m\u001b[0m\u001b[0;34m\u001b[0m\u001b[0m\n\u001b[0m\u001b[1;32m    706\u001b[0m         )\n\u001b[1;32m    707\u001b[0m \u001b[0;34m\u001b[0m\u001b[0m\n",
            "\u001b[0;32m/usr/local/lib/python3.6/dist-packages/ipykernel/kernelbase.py\u001b[0m in \u001b[0;36m_input_request\u001b[0;34m(self, prompt, ident, parent, password)\u001b[0m\n\u001b[1;32m    733\u001b[0m             \u001b[0;32mexcept\u001b[0m \u001b[0mKeyboardInterrupt\u001b[0m\u001b[0;34m:\u001b[0m\u001b[0;34m\u001b[0m\u001b[0;34m\u001b[0m\u001b[0m\n\u001b[1;32m    734\u001b[0m                 \u001b[0;31m# re-raise KeyboardInterrupt, to truncate traceback\u001b[0m\u001b[0;34m\u001b[0m\u001b[0;34m\u001b[0m\u001b[0;34m\u001b[0m\u001b[0m\n\u001b[0;32m--> 735\u001b[0;31m                 \u001b[0;32mraise\u001b[0m \u001b[0mKeyboardInterrupt\u001b[0m\u001b[0;34m\u001b[0m\u001b[0;34m\u001b[0m\u001b[0m\n\u001b[0m\u001b[1;32m    736\u001b[0m             \u001b[0;32melse\u001b[0m\u001b[0;34m:\u001b[0m\u001b[0;34m\u001b[0m\u001b[0;34m\u001b[0m\u001b[0m\n\u001b[1;32m    737\u001b[0m                 \u001b[0;32mbreak\u001b[0m\u001b[0;34m\u001b[0m\u001b[0;34m\u001b[0m\u001b[0m\n",
            "\u001b[0;31mKeyboardInterrupt\u001b[0m: "
          ]
        }
      ]
    },
    {
      "cell_type": "code",
      "metadata": {
        "id": "mlcwvTUQT4HA"
      },
      "source": [
        ""
      ],
      "execution_count": null,
      "outputs": []
    },
    {
      "cell_type": "code",
      "metadata": {
        "id": "4s2LBYeRT4FK"
      },
      "source": [
        ""
      ],
      "execution_count": null,
      "outputs": []
    },
    {
      "cell_type": "code",
      "metadata": {
        "id": "uNiGeUBFT4Cw"
      },
      "source": [
        ""
      ],
      "execution_count": null,
      "outputs": []
    },
    {
      "cell_type": "code",
      "metadata": {
        "id": "zaMbckcCT3__"
      },
      "source": [
        ""
      ],
      "execution_count": null,
      "outputs": []
    },
    {
      "cell_type": "code",
      "metadata": {
        "id": "Aj87NLrGT39h"
      },
      "source": [
        ""
      ],
      "execution_count": null,
      "outputs": []
    },
    {
      "cell_type": "code",
      "metadata": {
        "id": "-l0aPgWOT35S"
      },
      "source": [
        ""
      ],
      "execution_count": null,
      "outputs": []
    }
  ]
}